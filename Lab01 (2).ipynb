{
 "cells": [
  {
   "cell_type": "markdown",
   "id": "030c74c8-140d-4da6-b253-d430e1aeb936",
   "metadata": {},
   "source": [
    "Part 1: User Information Processing and Classification"
   ]
  },
  {
   "cell_type": "markdown",
   "id": "d5bf5e70-b8a1-4612-8cac-b81c3d257b7e",
   "metadata": {},
   "source": [
    "1.User Input and Data Conversion"
   ]
  },
  {
   "cell_type": "code",
   "execution_count": 151,
   "id": "4457a30c-d562-47b7-b80b-6bc0caf38ee3",
   "metadata": {},
   "outputs": [
    {
     "name": "stdin",
     "output_type": "stream",
     "text": [
      "What is your name Sebastian\n",
      "What is your age? 20\n",
      "How many months has it been since your last birthday? 3\n",
      "What is your height (centimeters)? 188.88\n",
      "Are you a student, please enter True or False True\n"
     ]
    }
   ],
   "source": [
    "#using input function for user input; using int and float functions for number user inputs (integers and decimals)\n",
    "name=input(\"What is your name\") \n",
    "age=int(input(\"What is your age?\"))\n",
    "extra_months=int(input(\"How many months has it been since your last birthday?\"))\n",
    "height=float(input(\"What is your height (centimeters)?\"))\n",
    "student=input(\"Are you a student, please enter True or False\")\n"
   ]
  },
  {
   "cell_type": "code",
   "execution_count": 153,
   "id": "c47c026f-47a7-45d6-8330-6a83d93258f0",
   "metadata": {},
   "outputs": [],
   "source": [
    "#conversion\n",
    "import math #importing for later use\n",
    "age_months=age*12 #calcultaion and reassigning\n",
    "height_int=math.floor(height) #rounding down"
   ]
  },
  {
   "cell_type": "code",
   "execution_count": 155,
   "id": "d86d21ea-79b7-4b15-9bc9-904f3428b369",
   "metadata": {},
   "outputs": [
    {
     "data": {
      "text/plain": [
       "188"
      ]
     },
     "execution_count": 155,
     "metadata": {},
     "output_type": "execute_result"
    }
   ],
   "source": [
    "height_int #checking"
   ]
  },
  {
   "cell_type": "code",
   "execution_count": 64,
   "id": "7137914a-409e-40f4-ba6f-6e61cc2d150c",
   "metadata": {},
   "outputs": [
    {
     "name": "stdout",
     "output_type": "stream",
     "text": [
      "Hello, Sebastian! You are 243 months old and 182 cm tall. Student status: True.\n"
     ]
    }
   ],
   "source": [
    "#Hello, {name}! You are {age_in_months} months old and {height_in_cm} cm tall. Student status: {is_student}.\n",
    "\n",
    "#f string to display nicely\n",
    "print(f\"Hello, {name}! You are {age_months+extra_months} months old and {height_int} cm tall. Student status: {student}.\")"
   ]
  },
  {
   "cell_type": "markdown",
   "id": "463a9489-fbf9-4a31-894f-75223d047d60",
   "metadata": {},
   "source": [
    "2.Tier Classification with match Statement"
   ]
  },
  {
   "cell_type": "code",
   "execution_count": 67,
   "id": "d5399b87-6206-4169-b6e8-0c99d2fd2830",
   "metadata": {},
   "outputs": [
    {
     "name": "stdin",
     "output_type": "stream",
     "text": [
      "Enter a superpower: flight\n"
     ]
    },
    {
     "name": "stdout",
     "output_type": "stream",
     "text": [
      "S-tier\n"
     ]
    }
   ],
   "source": [
    "superpower=input(\"Enter a superpower:\").lower() #user input; converted to lower case\n",
    "match superpower:\n",
    "    case \"flight\"|\"super strength\": #use match statement to \"match\" user input and print corresponding print statement\n",
    "        print(\"S-tier\")\n",
    "    case \"invisibility\"|\"telekinesis\":\n",
    "        print(\"A-tier\")\n",
    "    case \"healing\"|\"speed\":\n",
    "        print(\"B-tier\")\n",
    "    case _: #catch-all for user input that does not \"match\"\n",
    "        print(\"Unknown superpower\")"
   ]
  },
  {
   "cell_type": "markdown",
   "id": "49e14e70-4856-45d9-8708-2175383f93b6",
   "metadata": {},
   "source": [
    "Part 2: Loops and List Manipulation"
   ]
  },
  {
   "cell_type": "markdown",
   "id": "4fc22276-2ed7-4dd9-9e4d-38e8ffabb02d",
   "metadata": {},
   "source": [
    "1.Number Guessing Game with while Loop"
   ]
  },
  {
   "cell_type": "code",
   "execution_count": 69,
   "id": "89e819a6-3d7d-4323-b456-3f77776461ec",
   "metadata": {},
   "outputs": [],
   "source": [
    "import random #accessing random module for functions and methods\n",
    "random_num=random.randint(1,100) #assigning and generating a random number 1-100"
   ]
  },
  {
   "cell_type": "code",
   "execution_count": 71,
   "id": "edaf392d-6402-413c-be9c-0f8e1e58cb91",
   "metadata": {},
   "outputs": [
    {
     "name": "stdout",
     "output_type": "stream",
     "text": [
      "94\n"
     ]
    }
   ],
   "source": [
    "print(random_num) #displaying"
   ]
  },
  {
   "cell_type": "code",
   "execution_count": 73,
   "id": "e772284c-2c20-4e98-91c5-0cca8a3b6569",
   "metadata": {},
   "outputs": [
    {
     "name": "stdin",
     "output_type": "stream",
     "text": [
      "Guess a random number 1-100 90\n"
     ]
    },
    {
     "name": "stdout",
     "output_type": "stream",
     "text": [
      "Too low!\n"
     ]
    },
    {
     "name": "stdin",
     "output_type": "stream",
     "text": [
      "Guess a random number 1-100 100\n"
     ]
    },
    {
     "name": "stdout",
     "output_type": "stream",
     "text": [
      "Too high!\n"
     ]
    },
    {
     "name": "stdin",
     "output_type": "stream",
     "text": [
      "Guess a random number 1-100 94\n"
     ]
    },
    {
     "name": "stdout",
     "output_type": "stream",
     "text": [
      "Correct\n",
      "Thanks for playing!\n"
     ]
    }
   ],
   "source": [
    "while True: #infinite loop until break\n",
    "    user_guess=int(input(\"Guess a random number 1-100\")) #assigning user guess and expecting an integer\n",
    "    if user_guess > random_num: #conditionals and executing below when the condition is met based on random number established above and user guess in while loop\n",
    "        print(\"Too high!\")\n",
    "        continue #skips remaining in the iteration\n",
    "    elif user_guess < random_num:\n",
    "        print(\"Too low!\")\n",
    "        continue\n",
    "    else:\n",
    "        print(\"Correct\")\n",
    "        break #loop ends when the condition is met\n",
    "print(\"Thanks for playing!\") #displaying nice message for the user"
   ]
  },
  {
   "cell_type": "markdown",
   "id": "e2e623b9-df7d-4872-98f0-41137e5aef7b",
   "metadata": {},
   "source": [
    "2.List Comprehension with Conditional Filtering"
   ]
  },
  {
   "cell_type": "code",
   "execution_count": 75,
   "id": "0ad1854e-b04d-494f-a2dd-444f23e670b5",
   "metadata": {},
   "outputs": [
    {
     "name": "stdout",
     "output_type": "stream",
     "text": [
      "[18, 39, 3, 34, 15, 46, 41, 24, 19, 4, 50, 43, 50, 9, 1]\n"
     ]
    }
   ],
   "source": [
    "list1=[random.randint(1,50) for i in range(15)] #list comprehension to generate 15 random numbers in the range 1-50 and put them into list1\n",
    "print(list1) #displaying"
   ]
  },
  {
   "cell_type": "code",
   "execution_count": 77,
   "id": "cb5e1578-9e99-41b1-b94c-9f344f4e5eeb",
   "metadata": {},
   "outputs": [
    {
     "name": "stdout",
     "output_type": "stream",
     "text": [
      "[324, 39, 3, 1156, 15, 2116, 41, 576, 19, 16, 2500, 43, 2500, 9, 1]\n"
     ]
    }
   ],
   "source": [
    "for i in range(len(list1)): #running for loop as many times as the list's length\n",
    "    if list1[i]%2==0: #checking if item in list is even\n",
    "        list1[i]=list1[i]**2 #if even, square it and replace it\n",
    "    else:\n",
    "        continue #skipping if odd\n",
    "print(list1) #displaying"
   ]
  },
  {
   "cell_type": "markdown",
   "id": "0caebd94-5f82-4160-b144-688ad8751687",
   "metadata": {},
   "source": [
    "3.Enumerate in Loops"
   ]
  },
  {
   "cell_type": "code",
   "execution_count": 171,
   "id": "908b38eb-ca9f-4b1a-bf58-2602de9d00be",
   "metadata": {},
   "outputs": [
    {
     "name": "stdout",
     "output_type": "stream",
     "text": [
      "The index is: 0 and the fruit is: apple\n",
      "The index is: 1 and the fruit is: bannana\n",
      "The index is: 2 and the fruit is: orange\n",
      "The index is: 3 and the fruit is: watermelon\n"
     ]
    }
   ],
   "source": [
    "favorite_fruits=[\"apple\",\"bannana\",\"orange\",\"watermelon\"]\n",
    "for ind,item in enumerate(favorite_fruits): #enumerate grabs the index, item; for loop with both index and item\n",
    "    print(f\"The index is: {ind} and the fruit is: {item}\") #f string to display nicely"
   ]
  },
  {
   "cell_type": "markdown",
   "id": "8e553506-e2ea-49a7-8555-86417e5ce303",
   "metadata": {},
   "source": [
    "Part 3: Error Handling and File Operations"
   ]
  },
  {
   "cell_type": "markdown",
   "id": "2dedea22-17f2-4db9-963a-0b2bc01f0984",
   "metadata": {},
   "source": [
    "1.Safe Division Function with Try-Except"
   ]
  },
  {
   "cell_type": "code",
   "execution_count": 92,
   "id": "3356b931-b205-4f90-9d20-984d86e6c8db",
   "metadata": {},
   "outputs": [],
   "source": [
    "def safe_divide(a,b): #creating function\n",
    "    \"\"\" divides two numbers (a and b) and handles errors explained below. Integers and/or floats input. Returns based on output \"\"\"\n",
    "    try: #trying if division raises no errors\n",
    "        x=a/b\n",
    "        return print(f\"Result:{x}; Success!\") #f string for neat displaying\n",
    "    except ZeroDivisionError: #if ZeroDivisionError is raised, below is executes\n",
    "        return print(\"Can not divide by zero!\")\n",
    "    except TypeError as error: #assigns exception to error\n",
    "        print(f\"Error: {error}\") #f string neat  display\n",
    "    finally:\n",
    "        print(\"Operation Complete\") #executed no matter what\n",
    "        \n",
    "    "
   ]
  },
  {
   "cell_type": "code",
   "execution_count": 94,
   "id": "bc9fe02b-5d5a-4c08-bc03-20746dbbaaf7",
   "metadata": {},
   "outputs": [
    {
     "name": "stdout",
     "output_type": "stream",
     "text": [
      "Result:2.0; Success!\n",
      "Operation Complete\n"
     ]
    }
   ],
   "source": [
    "safe_divide(10,5)"
   ]
  },
  {
   "cell_type": "markdown",
   "id": "1e3cbd93-cd25-49f4-9e2f-8da9d99b954f",
   "metadata": {},
   "source": [
    "2.File Processing with Context Managers"
   ]
  },
  {
   "cell_type": "code",
   "execution_count": 163,
   "id": "5be875c1-3ae2-4553-bc88-1e7eefeafb42",
   "metadata": {},
   "outputs": [],
   "source": [
    "#prior to writing this code, I copied and pasted the lowercase text given into a Notepad file and named it input.txt in my downloads; also created a blank file and named it output.txt\n",
    "with open(r\"C:\\Users\\sebas\\Downloads\\input.txt\", 'r') as file: #read mode; closed  after reading; assigned to content_input\n",
    "    content_input = file.read()\n",
    "with open(r\"C:\\Users\\sebas\\Downloads\\output.txt\",'w') as file: #write mode; overwriting output.txt (empty) with uppercase version (.upper())\n",
    "    file.write(content_input.upper())"
   ]
  },
  {
   "cell_type": "code",
   "execution_count": 165,
   "id": "e8a6b41d-7d76-42cc-80bc-b5f0d8bdac32",
   "metadata": {},
   "outputs": [
    {
     "name": "stdout",
     "output_type": "stream",
     "text": [
      "THE QUICK BROWN FOX JUMPS OVER THE LAZY DOG.\n",
      "PYTHON MAKES FILE HANDLING SIMPLE AND EFFICIENT.\n",
      "REMEMBER TO CLOSE YOUR FILES WHEN YOU'RE DONE!\n"
     ]
    }
   ],
   "source": [
    "with open(r\"C:\\Users\\sebas\\Downloads\\output.txt\", 'r') as file: #reading and printing output.txt\n",
    "        x = file.read()\n",
    "        print(x)\n"
   ]
  },
  {
   "cell_type": "markdown",
   "id": "74981609-1adf-4b0c-aafb-3f9d0e2a331d",
   "metadata": {},
   "source": [
    "Reflection\n",
    "\n",
    "I am glad that Computer Science II switched to Python from Java because I wanted to build on my Python skills. That being said, I am curious to know if my Python skills are going to help me learn other languages quickly. I have some familiarity with other languages and I know Java is kinda similar, but what about other languages? I am also curious about which languages are valued the most. I know Python is highly rated, but are other languages simply better for different areas of Computer Science? In class, I have found it most important to remember the basic structures of code and what the functions and methods do. Even if one does not remember the exact name of a function or has a slight syntax error, one can probably just Google what it is as a quick reminder. It is important to remember to not have AI write your code, as it will hinder one's learning. During this lab, I used Google to help me remember a few of the functions and blocks. For example, I remembered that there was a block of code that executes no matter what at the end of try-except blocks, but I did not remember the name. After Google helped me remember that it was called a finally block, I was able to implement the code smoothly. Had I just had ChatGPT write the code, I would not remember that this is the finally block going forward. It is important to be able to leverage today's modern technology to benefit us, not hurt us."
   ]
  },
  {
   "cell_type": "code",
   "execution_count": null,
   "id": "7755619e-0204-4c29-9394-0ec7fb5c45b0",
   "metadata": {},
   "outputs": [],
   "source": []
  }
 ],
 "metadata": {
  "kernelspec": {
   "display_name": "Python [conda env:base] *",
   "language": "python",
   "name": "conda-base-py"
  },
  "language_info": {
   "codemirror_mode": {
    "name": "ipython",
    "version": 3
   },
   "file_extension": ".py",
   "mimetype": "text/x-python",
   "name": "python",
   "nbconvert_exporter": "python",
   "pygments_lexer": "ipython3",
   "version": "3.12.7"
  }
 },
 "nbformat": 4,
 "nbformat_minor": 5
}
