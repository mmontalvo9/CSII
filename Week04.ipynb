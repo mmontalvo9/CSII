{
 "cells": [
  {
   "cell_type": "code",
   "execution_count": 44,
   "id": "9d2a278d-c2b7-4893-89c3-945fc757a77e",
   "metadata": {},
   "outputs": [],
   "source": [
    "def process_order(*items_prices, **order_details):\n",
    "        total=sum(items_prices)\n",
    "        shipping=order_details.get(\"shipping\", \"Pick up at the store\")\n",
    "        discount=order_details.get(\"discount\", 0)\n",
    "        customer_notes=order_details.get(\"notes\", \"\")\n",
    "        total_after_discount=total*(1-discount/100)\n",
    "        order_summary={\"total\": total,\n",
    "                       \"discount percent\": discount,\n",
    "                       \"total after discount\":total_after_discount,\n",
    "                       \"shipping method\": shipping,\n",
    "                       \"customer notes\": customer_notes,\n",
    "                       \"number of items\": len(items_prices)\n",
    "                      }\n",
    "        return order_summary"
   ]
  },
  {
   "cell_type": "code",
   "execution_count": 46,
   "id": "50bf6a65-0bd1-4cea-9706-a3330f78a345",
   "metadata": {},
   "outputs": [
    {
     "name": "stdout",
     "output_type": "stream",
     "text": [
      "{'total': 32.269999999999996, 'discount percent': 25, 'total after discount': 24.202499999999997, 'shipping method': 'express', 'customer notes': 'gluten free', 'number of items': 3}\n"
     ]
    }
   ],
   "source": [
    "order_tb48=process_order(19.99, 8.78, 3.50, shipping=\"express\", discount=25, notes=\"gluten free\")\n",
    "print(order_tb48)"
   ]
  },
  {
   "cell_type": "markdown",
   "id": "77ef882e-e55c-4439-afc3-22de66069473",
   "metadata": {},
   "source": [
    "Mini Assignment: xxx"
   ]
  },
  {
   "cell_type": "markdown",
   "id": "8f363f6d-a973-4a3d-9741-b6c0bbee8012",
   "metadata": {},
   "source": [
    "Classes and Functions"
   ]
  },
  {
   "cell_type": "code",
   "execution_count": 50,
   "id": "46fdbc20-f184-4502-90be-289da7ed7c5c",
   "metadata": {},
   "outputs": [],
   "source": [
    "class  Time: #must be a capital letter\n",
    "    \"\"\"Represents the time of day\"\"\""
   ]
  },
  {
   "cell_type": "code",
   "execution_count": 52,
   "id": "68a304ec-6fed-42e5-a36e-60a26628a27c",
   "metadata": {},
   "outputs": [],
   "source": [
    "lunch=Time()"
   ]
  },
  {
   "cell_type": "code",
   "execution_count": 54,
   "id": "66b744bf-6ca8-4e72-888c-91adecfd9e05",
   "metadata": {},
   "outputs": [
    {
     "name": "stdout",
     "output_type": "stream",
     "text": [
      "<class '__main__.Time'>\n"
     ]
    }
   ],
   "source": [
    "print(type(Time()))"
   ]
  },
  {
   "cell_type": "code",
   "execution_count": 56,
   "id": "83b29664-274d-48d8-ae7c-9a40198f1a98",
   "metadata": {},
   "outputs": [],
   "source": [
    "lunch.hour=11\n",
    "lunch.minute=29\n",
    "lunch.second=59"
   ]
  },
  {
   "cell_type": "code",
   "execution_count": 58,
   "id": "5926630e-6551-4e87-b60c-5ae121394f1b",
   "metadata": {},
   "outputs": [
    {
     "name": "stdout",
     "output_type": "stream",
     "text": [
      "11\n"
     ]
    }
   ],
   "source": [
    "print(lunch.hour)"
   ]
  },
  {
   "cell_type": "code",
   "execution_count": 60,
   "id": "74ec2466-12e6-4d2e-9429-ba959d3be765",
   "metadata": {},
   "outputs": [
    {
     "name": "stdout",
     "output_type": "stream",
     "text": [
      "11:29:59\n"
     ]
    }
   ],
   "source": [
    "print(f\"{lunch.hour}:{lunch.minute}:{lunch.second}\")"
   ]
  },
  {
   "cell_type": "code",
   "execution_count": 166,
   "id": "84c6a9f0-1b92-459e-85e8-eed12038e473",
   "metadata": {},
   "outputs": [],
   "source": [
    "def make_time(hour,minute,second):\n",
    "    time=Time()\n",
    "    time.hour=hour\n",
    "    time.minute=minute\n",
    "    time.second=second\n",
    "    return time"
   ]
  },
  {
   "cell_type": "code",
   "execution_count": 168,
   "id": "3ab24419-f7a3-4ab7-bb8e-13fb50709919",
   "metadata": {},
   "outputs": [
    {
     "name": "stdout",
     "output_type": "stream",
     "text": [
      "12:14:50\n"
     ]
    }
   ],
   "source": [
    "time=make_time(12,14,50)\n",
    "print(f\"{time.hour}:{time.minute}:{time.second}\")"
   ]
  },
  {
   "cell_type": "code",
   "execution_count": 170,
   "id": "acec2513-f277-4499-885f-87637df336f0",
   "metadata": {},
   "outputs": [],
   "source": [
    "total_time=(60*60*lunch.hour+60*lunch.minute+lunch.second)"
   ]
  },
  {
   "cell_type": "code",
   "execution_count": 172,
   "id": "788c0b2a-7421-42dd-ba92-f59b44d14544",
   "metadata": {},
   "outputs": [
    {
     "name": "stdout",
     "output_type": "stream",
     "text": [
      "41399 in seconds\n"
     ]
    }
   ],
   "source": [
    "print(f\"{total_time} in seconds\")"
   ]
  },
  {
   "cell_type": "code",
   "execution_count": 174,
   "id": "8d95b1ff-1669-4c12-8186-6d331b18f469",
   "metadata": {},
   "outputs": [],
   "source": [
    "minutes=total_time/60"
   ]
  },
  {
   "cell_type": "code",
   "execution_count": 176,
   "id": "30be6f5a-fa8a-4c6e-a126-d748488546da",
   "metadata": {},
   "outputs": [
    {
     "name": "stdout",
     "output_type": "stream",
     "text": [
      "689.98 mins\n"
     ]
    }
   ],
   "source": [
    "print(f\"{minutes:.2f} mins\")"
   ]
  },
  {
   "cell_type": "code",
   "execution_count": 178,
   "id": "d23f522d-c954-41b9-ae3b-f97a0d9afae3",
   "metadata": {},
   "outputs": [
    {
     "name": "stdout",
     "output_type": "stream",
     "text": [
      "11:29:59\n"
     ]
    }
   ],
   "source": [
    "print(f\"{lunch.hour}:{lunch.minute:02d}:{lunch.second:02d}\")"
   ]
  },
  {
   "cell_type": "code",
   "execution_count": 180,
   "id": "cda4050f-e0c3-4467-91e6-fb7ffda44a63",
   "metadata": {},
   "outputs": [],
   "source": [
    "def print_time(time):\n",
    "    return (f\"{time.hour}:{time.minute:02d}:{time.second:02d}\")"
   ]
  },
  {
   "cell_type": "code",
   "execution_count": 182,
   "id": "eafc8755-3c43-4e83-be31-1555c131bc36",
   "metadata": {},
   "outputs": [
    {
     "data": {
      "text/plain": [
       "'12:14:50'"
      ]
     },
     "execution_count": 182,
     "metadata": {},
     "output_type": "execute_result"
    }
   ],
   "source": [
    "print_time(time)"
   ]
  },
  {
   "cell_type": "code",
   "execution_count": 184,
   "id": "210abeb4-9f80-4165-a4f5-0dfcdc00649e",
   "metadata": {},
   "outputs": [
    {
     "data": {
      "text/plain": [
       "'11:29:59'"
      ]
     },
     "execution_count": 184,
     "metadata": {},
     "output_type": "execute_result"
    }
   ],
   "source": [
    "print_time(lunch)"
   ]
  },
  {
   "cell_type": "code",
   "execution_count": 186,
   "id": "06fc108a-8604-4d0b-be06-63b7021ed5a4",
   "metadata": {},
   "outputs": [
    {
     "data": {
      "text/plain": [
       "'11:43:50'"
      ]
     },
     "execution_count": 186,
     "metadata": {},
     "output_type": "execute_result"
    }
   ],
   "source": [
    "now=make_time(11,43,50)\n",
    "print_time(now)"
   ]
  },
  {
   "cell_type": "code",
   "execution_count": 188,
   "id": "eef1a844-2b0a-4116-a144-ab3652c37c1b",
   "metadata": {},
   "outputs": [
    {
     "data": {
      "text/plain": [
       "'11:48:50'"
      ]
     },
     "execution_count": 188,
     "metadata": {},
     "output_type": "execute_result"
    }
   ],
   "source": [
    "right_now=make_time(11,48,50)\n",
    "print_time(right_now)"
   ]
  },
  {
   "cell_type": "code",
   "execution_count": 190,
   "id": "263ee48c-a933-4d00-9329-111a82e733d7",
   "metadata": {},
   "outputs": [
    {
     "data": {
      "text/plain": [
       "'8:10:00'"
      ]
     },
     "execution_count": 190,
     "metadata": {},
     "output_type": "execute_result"
    }
   ],
   "source": [
    "start=make_time(8,10,0)\n",
    "print_time(start)"
   ]
  },
  {
   "cell_type": "code",
   "execution_count": 192,
   "id": "723f1778-1103-44f5-ab8e-3c42887a6002",
   "metadata": {},
   "outputs": [
    {
     "data": {
      "text/plain": [
       "'9:44:00'"
      ]
     },
     "execution_count": 192,
     "metadata": {},
     "output_type": "execute_result"
    }
   ],
   "source": [
    "start.hour+=1\n",
    "start.minute+=34\n",
    "start.second+=0\n",
    "print_time(start)"
   ]
  },
  {
   "cell_type": "code",
   "execution_count": 196,
   "id": "b84f2638-4da4-4e4a-a0ab-b320341b1fde",
   "metadata": {},
   "outputs": [],
   "source": [
    "def increment_time(time, hours, minutes, seconds):\n",
    "    time.hour+=hours\n",
    "    time.minute+=minutes\n",
    "    time.second+=seconds"
   ]
  },
  {
   "cell_type": "code",
   "execution_count": 206,
   "id": "d893f902-95aa-4f57-a88c-21a1ded5d832",
   "metadata": {},
   "outputs": [
    {
     "data": {
      "text/plain": [
       "'3:23:00'"
      ]
     },
     "execution_count": 206,
     "metadata": {},
     "output_type": "execute_result"
    }
   ],
   "source": [
    "movie_start_time=make_time(2,0,0)\n",
    "increment_time(movie_start_time,1,23,0)\n",
    "print_time(movie_start_time)"
   ]
  },
  {
   "cell_type": "markdown",
   "id": "9aa799c2-d898-4862-b9cb-a391cf7208fc",
   "metadata": {},
   "source": [
    "###Copying"
   ]
  },
  {
   "cell_type": "code",
   "execution_count": 213,
   "id": "a1f257da-6cfe-405a-94fc-3940f2e97519",
   "metadata": {},
   "outputs": [
    {
     "data": {
      "text/plain": [
       "'12:11:16'"
      ]
     },
     "execution_count": 213,
     "metadata": {},
     "output_type": "execute_result"
    }
   ],
   "source": [
    "from copy import copy\n",
    "now=make_time(12,11,16)\n",
    "print_time(now)"
   ]
  },
  {
   "cell_type": "code",
   "execution_count": 215,
   "id": "e711d7f6-e3ce-423d-a7e8-6d8480906a27",
   "metadata": {},
   "outputs": [
    {
     "data": {
      "text/plain": [
       "'12:11:16'"
      ]
     },
     "execution_count": 215,
     "metadata": {},
     "output_type": "execute_result"
    }
   ],
   "source": [
    "end=copy(now)\n",
    "print_time(end)"
   ]
  },
  {
   "cell_type": "code",
   "execution_count": 217,
   "id": "387aa5ed-0f84-438f-80b5-2ae5556061b8",
   "metadata": {},
   "outputs": [
    {
     "data": {
      "text/plain": [
       "False"
      ]
     },
     "execution_count": 217,
     "metadata": {},
     "output_type": "execute_result"
    }
   ],
   "source": [
    "now is end #not stored in same location"
   ]
  },
  {
   "cell_type": "markdown",
   "id": "d20fbfac-3590-43e6-b165-6b9eb51cb9d9",
   "metadata": {},
   "source": [
    "Pure Functions"
   ]
  },
  {
   "cell_type": "code",
   "execution_count": 258,
   "id": "29d33abd-f662-4fe1-a60d-08409e3f953b",
   "metadata": {},
   "outputs": [],
   "source": [
    "from copy import copy\n",
    "def add_time(time, hours, minutes, seconds):\n",
    "    total=copy(time)\n",
    "    increment_time(total, hours, minutes, seconds)\n",
    "    return total"
   ]
  },
  {
   "cell_type": "code",
   "execution_count": 260,
   "id": "f2acbc42-0294-44bc-afb3-08bc1b28f89c",
   "metadata": {},
   "outputs": [
    {
     "data": {
      "text/plain": [
       "'11:11:11'"
      ]
     },
     "execution_count": 260,
     "metadata": {},
     "output_type": "execute_result"
    }
   ],
   "source": [
    "print_time(start)"
   ]
  },
  {
   "cell_type": "code",
   "execution_count": 240,
   "id": "318fd7fc-fd79-4f13-b83b-0f2d845402d1",
   "metadata": {},
   "outputs": [
    {
     "data": {
      "text/plain": [
       "'12:61:11'"
      ]
     },
     "execution_count": 240,
     "metadata": {},
     "output_type": "execute_result"
    }
   ],
   "source": [
    "start=make_time(11,11,11)\n",
    "end=add_time(start,1,50,0)\n",
    "print_time(end)"
   ]
  },
  {
   "cell_type": "code",
   "execution_count": 284,
   "id": "d3465e36-a3ce-412d-9623-9d0d82aaa85d",
   "metadata": {},
   "outputs": [],
   "source": [
    "def increment_time(time, hours, minutes, seconds):\n",
    "    time.hour+=hours\n",
    "    time.minute+=minutes\n",
    "    time.second+=seconds\n",
    "    if time.second>=60: #make while\n",
    "        time.minute+=1\n",
    "        time.second-=60\n",
    "    if time.minute>=60: #make while\n",
    "        time.hour+=1\n",
    "        time.minute-=60"
   ]
  },
  {
   "cell_type": "code",
   "execution_count": 286,
   "id": "87a3a4b8-6ad8-47e2-a7ba-4aedca490a9b",
   "metadata": {},
   "outputs": [
    {
     "data": {
      "text/plain": [
       "'11:12:00'"
      ]
     },
     "execution_count": 286,
     "metadata": {},
     "output_type": "execute_result"
    }
   ],
   "source": [
    "start=make_time(9,40,0)\n",
    "end=add_time(start,1,32,0)\n",
    "print_time(end)"
   ]
  },
  {
   "cell_type": "code",
   "execution_count": 288,
   "id": "11a998c6-741a-4c73-a4dd-cb52fb91a14c",
   "metadata": {},
   "outputs": [
    {
     "data": {
      "text/plain": [
       "'10:72:00'"
      ]
     },
     "execution_count": 288,
     "metadata": {},
     "output_type": "execute_result"
    }
   ],
   "source": [
    "start=make_time(9,40,0)\n",
    "end=add_time(start,0,92,0)\n",
    "print_time(end)"
   ]
  },
  {
   "cell_type": "code",
   "execution_count": 290,
   "id": "803bb523-efb0-4080-9747-0e50c0804370",
   "metadata": {},
   "outputs": [
    {
     "data": {
      "text/plain": [
       "(1, 12)"
      ]
     },
     "execution_count": 290,
     "metadata": {},
     "output_type": "execute_result"
    }
   ],
   "source": [
    "carry,end.minute=divmod(end.minute, 60)\n",
    "carry,end.minute"
   ]
  },
  {
   "cell_type": "code",
   "execution_count": 292,
   "id": "2c70d8a6-8c4d-4869-99a3-3517a6b82d15",
   "metadata": {},
   "outputs": [
    {
     "data": {
      "text/plain": [
       "'11:12:00'"
      ]
     },
     "execution_count": 292,
     "metadata": {},
     "output_type": "execute_result"
    }
   ],
   "source": [
    "end.hour+=carry\n",
    "print_time(end)"
   ]
  },
  {
   "cell_type": "code",
   "execution_count": 330,
   "id": "55de59ef-ee01-4dbd-a408-99fc21c91ac0",
   "metadata": {},
   "outputs": [],
   "source": [
    "def increment_time(time, hours, minutes, seconds):\n",
    "    time.hour+=hours\n",
    "    time.minute+=minutes\n",
    "    time.second+=seconds\n",
    "    carry,time.second=divmod(time.second,60)\n",
    "    carry,time.minute=divmod(time.minute+carry,60)\n",
    "    carry,time.hour=divmod(time.hour+carry,60)\n",
    "        "
   ]
  },
  {
   "cell_type": "code",
   "execution_count": 332,
   "id": "00385fe2-dfee-4487-b936-5f0099c3c993",
   "metadata": {},
   "outputs": [
    {
     "data": {
      "text/plain": [
       "'11:15:02'"
      ]
     },
     "execution_count": 332,
     "metadata": {},
     "output_type": "execute_result"
    }
   ],
   "source": [
    "start=make_time(10,0,0)\n",
    "end=add_time(start,0,0,4502)\n",
    "print_time(end)"
   ]
  },
  {
   "cell_type": "code",
   "execution_count": null,
   "id": "0dabc332-fa9f-4aef-b699-1b831928f22f",
   "metadata": {},
   "outputs": [],
   "source": [
    "d"
   ]
  }
 ],
 "metadata": {
  "kernelspec": {
   "display_name": "Python [conda env:base] *",
   "language": "python",
   "name": "conda-base-py"
  },
  "language_info": {
   "codemirror_mode": {
    "name": "ipython",
    "version": 3
   },
   "file_extension": ".py",
   "mimetype": "text/x-python",
   "name": "python",
   "nbconvert_exporter": "python",
   "pygments_lexer": "ipython3",
   "version": "3.12.7"
  }
 },
 "nbformat": 4,
 "nbformat_minor": 5
}
