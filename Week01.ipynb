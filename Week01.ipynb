{
 "cells": [
  {
   "cell_type": "code",
   "execution_count": 21,
   "id": "33143de3-929d-44d4-aa1f-914270affc93",
   "metadata": {},
   "outputs": [
    {
     "name": "stdout",
     "output_type": "stream",
     "text": [
      "Hello World!\n"
     ]
    }
   ],
   "source": [
    "print(\"Hello World!\")"
   ]
  },
  {
   "cell_type": "code",
   "execution_count": 27,
   "id": "77459a49-7758-4be5-bec3-22a6af27c8cc",
   "metadata": {},
   "outputs": [
    {
     "name": "stdin",
     "output_type": "stream",
     "text": [
      "What's ur name? Seb\n"
     ]
    }
   ],
   "source": [
    "name=input(\"What's ur name?\")"
   ]
  },
  {
   "cell_type": "code",
   "execution_count": 29,
   "id": "bf7186eb-5599-49ae-8b75-e4a3f856fa81",
   "metadata": {},
   "outputs": [
    {
     "name": "stdout",
     "output_type": "stream",
     "text": [
      "Hello Seb\n"
     ]
    }
   ],
   "source": [
    "print(\"Hello\", name)"
   ]
  },
  {
   "cell_type": "code",
   "execution_count": 31,
   "id": "530aeb21-5074-4153-8d37-598373d35345",
   "metadata": {},
   "outputs": [
    {
     "data": {
      "text/plain": [
       "'Hello Seb!'"
      ]
     },
     "execution_count": 31,
     "metadata": {},
     "output_type": "execute_result"
    }
   ],
   "source": [
    "f\"Hello {name}!\""
   ]
  },
  {
   "cell_type": "code",
   "execution_count": 33,
   "id": "7e05b243-25dd-440a-b907-0afe84896aef",
   "metadata": {},
   "outputs": [
    {
     "name": "stdout",
     "output_type": "stream",
     "text": [
      "<class 'int'>\n"
     ]
    }
   ],
   "source": [
    "x=5\n",
    "print(type(x))"
   ]
  },
  {
   "cell_type": "code",
   "execution_count": 35,
   "id": "7e81b07f-bdd1-4db4-8ad6-5f99982ecc16",
   "metadata": {},
   "outputs": [
    {
     "name": "stdout",
     "output_type": "stream",
     "text": [
      "<class 'list'>\n"
     ]
    }
   ],
   "source": [
    "x=[1,2,3,4]\n",
    "print(type(x))"
   ]
  },
  {
   "cell_type": "code",
   "execution_count": 37,
   "id": "b58c9d60-0bdc-4c6a-98b7-fd1d8cf563a6",
   "metadata": {},
   "outputs": [
    {
     "data": {
      "text/plain": [
       "float"
      ]
     },
     "execution_count": 37,
     "metadata": {},
     "output_type": "execute_result"
    }
   ],
   "source": [
    "gpa=3.9\n",
    "type(gpa)"
   ]
  },
  {
   "cell_type": "code",
   "execution_count": 39,
   "id": "ee91518e-b100-496c-b69d-f02883aaab6b",
   "metadata": {},
   "outputs": [
    {
     "name": "stdout",
     "output_type": "stream",
     "text": [
      "<class 'int'>\n"
     ]
    }
   ],
   "source": [
    "str_num=\"129\"\n",
    "int_num=int(str_num)\n",
    "print(type(int_num))"
   ]
  },
  {
   "cell_type": "code",
   "execution_count": 43,
   "id": "581b84ff-fc59-4e9a-b7fd-62fbfc92de91",
   "metadata": {},
   "outputs": [
    {
     "name": "stdout",
     "output_type": "stream",
     "text": [
      "The number in integer form is 129\n"
     ]
    }
   ],
   "source": [
    "print(f\"The number in integer form is {int_num}\")"
   ]
  },
  {
   "cell_type": "code",
   "execution_count": 63,
   "id": "48ebd301-3534-4f63-8ef5-a56a58556803",
   "metadata": {},
   "outputs": [
    {
     "name": "stdout",
     "output_type": "stream",
     "text": [
      "['H', 'e', 'l', 'l', 'o']\n"
     ]
    }
   ],
   "source": [
    "text=\"Hello\"\n",
    "text=list(text)\n",
    "print(text)\n"
   ]
  },
  {
   "cell_type": "code",
   "execution_count": 73,
   "id": "b8a778ae-dd9a-40d9-be69-f92758c5cc06",
   "metadata": {},
   "outputs": [],
   "source": [
    "a=''.join(text)"
   ]
  },
  {
   "cell_type": "code",
   "execution_count": 75,
   "id": "a54b70c6-55e6-4bec-b3c9-851511aa4392",
   "metadata": {},
   "outputs": [
    {
     "data": {
      "text/plain": [
       "'Hello'"
      ]
     },
     "execution_count": 75,
     "metadata": {},
     "output_type": "execute_result"
    }
   ],
   "source": [
    "a"
   ]
  },
  {
   "cell_type": "code",
   "execution_count": 65,
   "id": "72b8c92e-3736-470f-bd9d-4ce48890e43b",
   "metadata": {},
   "outputs": [
    {
     "data": {
      "text/plain": [
       "['o', 'l', 'l', 'e', 'H']"
      ]
     },
     "execution_count": 65,
     "metadata": {},
     "output_type": "execute_result"
    }
   ],
   "source": [
    "text[::-1]"
   ]
  },
  {
   "cell_type": "code",
   "execution_count": 117,
   "id": "fe31f99c-dc14-47c4-be79-aa8d10ac54c6",
   "metadata": {},
   "outputs": [
    {
     "name": "stdin",
     "output_type": "stream",
     "text": [
      "What number do you want? 5\n"
     ]
    },
    {
     "name": "stdout",
     "output_type": "stream",
     "text": [
      "nah\n"
     ]
    }
   ],
   "source": [
    "x=int(input(\"What number do you want?\"))\n",
    "\n",
    "if x>5:\n",
    "    print(\"x is greater than 5\")\n",
    "elif x<5 and x>0:\n",
    "    print(\"x is bw 0 and 5\")\n",
    "else:\n",
    "    print(\"nah\")\n",
    "    "
   ]
  },
  {
   "cell_type": "markdown",
   "id": "6a3fe29f-e8a9-40ae-b445-370cbfc6a2d8",
   "metadata": {},
   "source": [
    "Match Statements in Python >3.10"
   ]
  },
  {
   "cell_type": "code",
   "execution_count": 119,
   "id": "10997835-6b15-46a9-82dd-638ee2c85827",
   "metadata": {},
   "outputs": [
    {
     "name": "stdin",
     "output_type": "stream",
     "text": [
      "Enter a status: success\n"
     ]
    },
    {
     "name": "stdout",
     "output_type": "stream",
     "text": [
      "Operation completed successfully\n"
     ]
    }
   ],
   "source": [
    "#match\n",
    "status=input(\"Enter a status:\").lower()\n",
    "match status:\n",
    "    case \"success\":\n",
    "        print(\"Operation completed successfully\")\n",
    "    case \"error\":\n",
    "        print(\"Error\")\n",
    "    case _:\n",
    "        print(\"Unknown status\")"
   ]
  },
  {
   "cell_type": "code",
   "execution_count": null,
   "id": "bc636123-547f-4dfd-bd56-ed48cd343ded",
   "metadata": {},
   "outputs": [],
   "source": []
  }
 ],
 "metadata": {
  "kernelspec": {
   "display_name": "Python [conda env:base] *",
   "language": "python",
   "name": "conda-base-py"
  },
  "language_info": {
   "codemirror_mode": {
    "name": "ipython",
    "version": 3
   },
   "file_extension": ".py",
   "mimetype": "text/x-python",
   "name": "python",
   "nbconvert_exporter": "python",
   "pygments_lexer": "ipython3",
   "version": "3.12.7"
  }
 },
 "nbformat": 4,
 "nbformat_minor": 5
}
