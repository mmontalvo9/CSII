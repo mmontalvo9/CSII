{
 "cells": [
  {
   "cell_type": "code",
   "execution_count": 8,
   "id": "62af10ef-b6c4-470c-943a-f5bf4733cbe0",
   "metadata": {},
   "outputs": [],
   "source": [
    "from copy import copy\n",
    "\n",
    "class Point:\n",
    "    \"\"\"This represets a point in 2-D Space\"\"\"\n",
    "    def __init__(self, x, y):\n",
    "        self.x=x\n",
    "        self.y=y\n",
    "    def __str__(self):\n",
    "        return f\"Point({self.x},{self.y})\"\n",
    "    def __eq__(self,other):\n",
    "        if self.x==self.y and other.x==other.y:\n",
    "            return True\n",
    "    def translate(self,dx,dy):\n",
    "        self.x+=dx\n",
    "        self.y+=dy\n",
    "    def translated(self, dx=0, dy=0):\n",
    "        point=copy(self)\n",
    "        point.translate(dx,dy)\n",
    "        return point\n",
    "        "
   ]
  },
  {
   "cell_type": "code",
   "execution_count": 36,
   "id": "0fe7c772-30f8-4246-949f-5338a536d498",
   "metadata": {},
   "outputs": [],
   "source": [
    "from jupyturtle import make_turtle, jumpto, moveto\n",
    "class Line:\n",
    "    \"\"\"represents a line in 2D space\"\"\"\n",
    "    def __init__(self, p1, p2):\n",
    "        self.p1=p1\n",
    "        self.p2=p2\n",
    "    def __str__(self):\n",
    "        return f\"Line({self.p1},{self.p2})\"\n",
    "    def draw(self):\n",
    "        jumpto(self.p1.x, self.p1.y)\n",
    "        moveto(self.p2.x, self.p2.y)"
   ]
  },
  {
   "cell_type": "code",
   "execution_count": 38,
   "id": "6a0418dc-9742-4653-b76e-e07ec115c2a5",
   "metadata": {},
   "outputs": [],
   "source": [
    "p1=Point(200,200)\n",
    "p2=Point(200,200)"
   ]
  },
  {
   "cell_type": "code",
   "execution_count": 40,
   "id": "0cd0dd21-ca09-46eb-90ea-8433328336c9",
   "metadata": {},
   "outputs": [
    {
     "data": {
      "text/plain": [
       "True"
      ]
     },
     "execution_count": 40,
     "metadata": {},
     "output_type": "execute_result"
    }
   ],
   "source": [
    "p1==p2"
   ]
  },
  {
   "cell_type": "code",
   "execution_count": 42,
   "id": "c76486ad-c571-4e32-aabe-d73e448e4079",
   "metadata": {},
   "outputs": [
    {
     "data": {
      "text/plain": [
       "False"
      ]
     },
     "execution_count": 42,
     "metadata": {},
     "output_type": "execute_result"
    }
   ],
   "source": [
    "p1 is p2"
   ]
  },
  {
   "cell_type": "code",
   "execution_count": 56,
   "id": "caefc6bf-0969-4442-828f-df51d60dbf25",
   "metadata": {},
   "outputs": [],
   "source": [
    "class Rectangle:\n",
    "    \"\"\"Represents a rectangle, attributes: width, height, corner\"\"\"\n",
    "    def __init__(self, w, h, c):\n",
    "        self.w=w\n",
    "        self.h=h\n",
    "        self.c=c\n",
    "    def __str__(self):\n",
    "        return f\"Rectangle({self.w},{self.h},{self.c})\"\n",
    "    def make_points(self):\n",
    "        p1=self.c\n",
    "        p2=p1.translated(self.w,0)\n",
    "        p3=p2.translated(0,self.h)\n",
    "        p4=p3.translated(-self.w,0)\n",
    "        return p1, p2, p3, p4\n",
    "    def make_line(self):\n",
    "        p1,p2,p3,p4=self.make_points()\n",
    "        return Line(p1,p2), Line(p2,p3), Line(p3,p4), Line(p4,p1)\n",
    "    def draw(self):\n",
    "        lines=self.make_line()\n",
    "        for line in lines:\n",
    "            line.draw()\n",
    "        "
   ]
  },
  {
   "cell_type": "code",
   "execution_count": 58,
   "id": "b74575eb-a18b-479d-9988-53c5e3a81837",
   "metadata": {},
   "outputs": [],
   "source": [
    "corner1=Point(30,20)\n",
    "box1=Rectangle(100,50, corner1)"
   ]
  },
  {
   "cell_type": "code",
   "execution_count": 60,
   "id": "488d86aa-e07b-4591-a9a1-a5dd252a03cf",
   "metadata": {},
   "outputs": [
    {
     "name": "stdout",
     "output_type": "stream",
     "text": [
      "Rectangle(100,50,Point(30,20))\n"
     ]
    }
   ],
   "source": [
    "print(box1)"
   ]
  },
  {
   "cell_type": "code",
   "execution_count": 70,
   "id": "c0ed6288-857e-4f1a-88b1-8416c5f2847d",
   "metadata": {},
   "outputs": [
    {
     "data": {
      "text/html": [
       "<svg width=\"300\" height=\"150\" style=\"fill:none; stroke-linecap:round;\">\n",
       "    <rect width=\"100%\" height=\"100%\" fill=\"#F3F3F7\" />\n",
       "\n",
       "\n",
       "<path stroke=\"#663399\" stroke-width=\"2\" d=\"M 150,75\" />'\n",
       "\n",
       "<path stroke=\"#663399\" stroke-width=\"2\" d=\"M 30,20 130,20\" />'\n",
       "\n",
       "<path stroke=\"#663399\" stroke-width=\"2\" d=\"M 130,20 130,70\" />'\n",
       "\n",
       "<path stroke=\"#663399\" stroke-width=\"2\" d=\"M 130,70 30,70\" />'\n",
       "\n",
       "<path stroke=\"#663399\" stroke-width=\"2\" d=\"M 30,70 30,20\" />'\n",
       "\n",
       "<g transform=\"rotate(-90.0,30,20) translate(30, 20)\">\n",
       "    <circle stroke=\"#63A375\" stroke-width=\"2\" fill=\"transparent\" r=\"5.5\" cx=\"0\" cy=\"0\"/>\n",
       "    <polygon points=\"0,12 2,9 -2,9\" style=\"fill:#63A375;stroke:#63A375;stroke-width:2\"/>\n",
       "</g>\n",
       "\n",
       "</svg>"
      ],
      "text/plain": [
       "<IPython.core.display.HTML object>"
      ]
     },
     "metadata": {},
     "output_type": "display_data"
    }
   ],
   "source": [
    "make_turtle()\n",
    "box1.draw()"
   ]
  },
  {
   "cell_type": "code",
   "execution_count": null,
   "id": "18535581-6e6b-4f3a-bfd4-4ce0da9fa041",
   "metadata": {},
   "outputs": [],
   "source": []
  }
 ],
 "metadata": {
  "kernelspec": {
   "display_name": "Python [conda env:base] *",
   "language": "python",
   "name": "conda-base-py"
  },
  "language_info": {
   "codemirror_mode": {
    "name": "ipython",
    "version": 3
   },
   "file_extension": ".py",
   "mimetype": "text/x-python",
   "name": "python",
   "nbconvert_exporter": "python",
   "pygments_lexer": "ipython3",
   "version": "3.12.7"
  }
 },
 "nbformat": 4,
 "nbformat_minor": 5
}
