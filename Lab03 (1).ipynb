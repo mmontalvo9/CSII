{
 "cells": [
  {
   "cell_type": "markdown",
   "id": "72ab0426-1ec0-4869-ac7f-cc5e676be9f8",
   "metadata": {},
   "source": [
    "Exercise 1: Talk with an LLM"
   ]
  },
  {
   "cell_type": "markdown",
   "id": "81efe487-e896-4421-afd7-5fed06281909",
   "metadata": {},
   "source": [
    "The concepts of object-oriented programming (OOP) are complex and should be broken down for people new to programming. After consulting ChatGPT, I have learned a lot about OOP, such as the difference between a class and a type. A class gives initial values attributes and assigns behaviors by way of methods. The type function outputs the type or class of an object. For example, some common types are strings, integers, and floats, whereas the user usually defines classes. Objects and instances are also quite closely related. Objects focus more on the variable itself and are an instance in a class, and each instance has its own assigned behaviors (methods) and initial values. For example, if we create a class name Car and we say car1=Car(\"Mustang\",1990) and car2=Car(\"Ford\", 1967), car1 and car2 are both instances of the class. I have briefly touched upon attributes, but more formally, attributes are the initial values that affect a variable. In a class named Car(), if we write car1.color, color is the attribute. A variable is essentially a name assigned to a value. If we say x=10, x is the variable, and 10 is the value. Pure functions are nice, as they are predictable and easy to track and debug, but they do not change state, which is the main benefit of modifiers. Modifiers allow for changes in outside variables, which are often utilized in the real world, such as altering data from a database."
   ]
  },
  {
   "cell_type": "markdown",
   "id": "b2a449fa-4cd2-4d30-8e3c-f8432187d596",
   "metadata": {},
   "source": [
    "Exercise 2: subtract_time and is_after"
   ]
  },
  {
   "cell_type": "markdown",
   "id": "89d4720a-90e3-4f73-a256-9a878ce67118",
   "metadata": {},
   "source": [
    "1. Write a function called subtract_time that takes two Time objects and returns the interval between them in seconds—assuming that they are two times during the same day.\n",
    "\n",
    "2. Write a function called is_after that takes two Time objects and returns True if the second time is later in the day than the first, and False otherwise:"
   ]
  },
  {
   "cell_type": "code",
   "execution_count": 276,
   "id": "63be4192-477d-4102-9ed7-9d83c049f233",
   "metadata": {},
   "outputs": [],
   "source": [
    "class  Time: #must be a capital letter; creates Time class\n",
    "    \"\"\"Represents the time of day\"\"\"\n",
    "    pass"
   ]
  },
  {
   "cell_type": "code",
   "execution_count": 278,
   "id": "121b47b5-1c6c-49f8-a8a0-180572669821",
   "metadata": {},
   "outputs": [],
   "source": [
    "def make_time(hour,minute,second): #copy and paste from week 4 notebook for creation of a time object\n",
    "    \"\"\"enter the hour,minute,second and will return a new time object for the time\"\"\"\n",
    "    time=Time() #defining class\n",
    "    time.hour=hour #assigning values to attributes\n",
    "    time.minute=minute\n",
    "    time.second=second\n",
    "    return time #returns newly created time object"
   ]
  },
  {
   "cell_type": "code",
   "execution_count": 280,
   "id": "dac93b02-bce8-47e4-a049-b022d64537b3",
   "metadata": {},
   "outputs": [],
   "source": [
    "def print_time(the_time):\n",
    "    \"\"\"Enter a time (using make_time) and will return a formatted version of the time\"\"\"\n",
    "    return (f\"{the_time.hour}:{the_time.minute}:{the_time.second}\")"
   ]
  },
  {
   "cell_type": "code",
   "execution_count": 282,
   "id": "0bf98fb8-b0ef-4dc1-a223-114be2521e51",
   "metadata": {},
   "outputs": [
    {
     "data": {
      "text/plain": [
       "'7:30:25'"
      ]
     },
     "execution_count": 282,
     "metadata": {},
     "output_type": "execute_result"
    }
   ],
   "source": [
    "example_time=make_time(7,30,25)\n",
    "print_time(example_time)"
   ]
  },
  {
   "cell_type": "code",
   "execution_count": 284,
   "id": "75ecef30-dcf5-4356-bf98-b31de463a71e",
   "metadata": {},
   "outputs": [],
   "source": [
    "def subtract_time(t1, t2): #taking two moments in time as parameters\n",
    "    \"\"\"Enter the first time, the second time (using make_time) and will return the amount of time between the two times\"\"\"\n",
    "    t1s=(t1.hour*3600)+(t1.minute*60)+(t1.second) #utilizing attributes defined above; arithmetic calculations for time difference in seconds\n",
    "    t2s=(t2.hour*3600)+(t2.minute*60)+(t2.second)\n",
    "    return abs(t1s-t2s) #returns difference in time between time 1 and time 2"
   ]
  },
  {
   "cell_type": "code",
   "execution_count": 286,
   "id": "a504bee0-a67a-43c1-a23b-c894d834f06f",
   "metadata": {},
   "outputs": [],
   "source": [
    "def is_after(t1, t2): #same as subtract except return\n",
    "    \"\"\"Enter the first time, the second time (using make_time) and will return if time 1 is after time 2\"\"\"\n",
    "    t1s=(t1.hour*3600)+(t1.minute*60)+(t1.second)\n",
    "    t2s=(t2.hour*3600)+(t2.minute*60)+(t2.second)\n",
    "    return t1s<t2s #returns true if time 1 is after time 2"
   ]
  },
  {
   "cell_type": "code",
   "execution_count": 288,
   "id": "175460df-5d67-4733-badd-813d68c9d1d7",
   "metadata": {},
   "outputs": [
    {
     "name": "stdout",
     "output_type": "stream",
     "text": [
      "The time between first and second is 10744 seconds\n",
      "first is after second: False\n"
     ]
    }
   ],
   "source": [
    "first=make_time(5,4,7) #displaying\n",
    "second=make_time(2,5,3)\n",
    "print(f\"The time between first and second is {subtract_time(first,second)} seconds\")\n",
    "print(f\"first is after second: {is_after(first,second)}\")"
   ]
  },
  {
   "cell_type": "markdown",
   "id": "b3719350-7228-4ae9-b161-63b9e5267bfb",
   "metadata": {},
   "source": [
    "Exercise 3: Date Class"
   ]
  },
  {
   "cell_type": "code",
   "execution_count": 291,
   "id": "7883687c-46c2-473b-9e69-42c4512c409a",
   "metadata": {},
   "outputs": [],
   "source": [
    "class Date: #creates Date class\n",
    "    \"\"\"Represents a year, month, and day\"\"\"\n",
    "    pass"
   ]
  },
  {
   "cell_type": "code",
   "execution_count": 293,
   "id": "a4a76dee-3270-4a44-b076-2a72c561d212",
   "metadata": {},
   "outputs": [],
   "source": [
    "def date_to_tuple(year,month,day): #created for future use, but never ended up using it\n",
    "    \"\"\"enter year,month,date and will return a tuple of the three numbers in that order separated by a comma\"\"\"\n",
    "    date=Date() #same concept as make_time function except return\n",
    "    date.year=year\n",
    "    date.month=month\n",
    "    date.day=day\n",
    "    return (date.year, date.month, date.day) #returns a tuple of year, month, day"
   ]
  },
  {
   "cell_type": "code",
   "execution_count": 295,
   "id": "7c5f8eb5-8830-487b-86f3-50b9398feb32",
   "metadata": {},
   "outputs": [
    {
     "name": "stdout",
     "output_type": "stream",
     "text": [
      "(2025, 2, 8)\n"
     ]
    }
   ],
   "source": [
    "example_date_tuple=date_to_tuple(2025,2,8) #displaying\n",
    "print(example_date_tuple)"
   ]
  },
  {
   "cell_type": "markdown",
   "id": "1beb2857-9be1-430a-b63d-c981e0993b87",
   "metadata": {},
   "source": [
    "1.Write a function called make_date that takes year, month, and day as parameters, makes a Date object, assigns the parameters to attributes, and returns the result as the new object. Create an object that represents June 22, 1933."
   ]
  },
  {
   "cell_type": "code",
   "execution_count": 298,
   "id": "886b0535-180c-46f7-a770-f2c61215cca8",
   "metadata": {},
   "outputs": [],
   "source": [
    "def make_date(year,month,day):\n",
    "    \"\"\"Enter year,month,day and will return a date object representing the date\"\"\"\n",
    "    date=Date() #same concept as make_time\n",
    "    date.year=year\n",
    "    date.month=month\n",
    "    date.day=day\n",
    "    return date"
   ]
  },
  {
   "cell_type": "code",
   "execution_count": 300,
   "id": "3b86ee48-acb6-4fdf-8848-de80590f8ee5",
   "metadata": {},
   "outputs": [
    {
     "name": "stdout",
     "output_type": "stream",
     "text": [
      "Year:1933, Month: 6, Day: 22\n"
     ]
    }
   ],
   "source": [
    "june_six_nineteen_thirty_three=make_date(1933,6,22) #displaying\n",
    "print(f\"Year:{june_six_nineteen_thirty_three.year}, Month: {june_six_nineteen_thirty_three.month}, Day: {june_six_nineteen_thirty_three.day}\")"
   ]
  },
  {
   "cell_type": "markdown",
   "id": "4962de7f-bb35-44c8-b3b1-aa406313fdcd",
   "metadata": {},
   "source": [
    "2. Write a function called print_date that takes a Date object, uses an f-string to format the attributes, and prints the result. If you test it with the Date you created, the result should be 1933-6-22."
   ]
  },
  {
   "cell_type": "code",
   "execution_count": 303,
   "id": "13e62388-7255-4e40-866e-0c1181818ad8",
   "metadata": {},
   "outputs": [],
   "source": [
    "def print_date(the_date): #utiliziing make_date attributes to display with f-string\n",
    "    \"\"\"Enter the desired date (using make_date) and will return a formatted version of the date \"\"\"\n",
    "    return (f\"{the_date.year}-{the_date.month}-{the_date.day}\")"
   ]
  },
  {
   "cell_type": "code",
   "execution_count": 305,
   "id": "a8a6115c-5e48-4502-81c8-135a05d0d4d2",
   "metadata": {},
   "outputs": [
    {
     "data": {
      "text/plain": [
       "'1933-6-22'"
      ]
     },
     "execution_count": 305,
     "metadata": {},
     "output_type": "execute_result"
    }
   ],
   "source": [
    "print_date(june_six_nineteen_thirty_three) #displaying date"
   ]
  },
  {
   "cell_type": "markdown",
   "id": "cc927f5f-3cb9-4fe7-a372-ca4b585e39a7",
   "metadata": {},
   "source": [
    "3. Write a function called is_after that takes two Date objects as parameters and returns True if the first comes after the second. Create a second object that represents September 17, 1933, and check whether it comes after the first object."
   ]
  },
  {
   "cell_type": "code",
   "execution_count": 308,
   "id": "644051b3-4926-4feb-b40e-c717152b6c69",
   "metadata": {},
   "outputs": [],
   "source": [
    "#very long conditional function that returns True if the first date comes after the second\n",
    "#must account for all possibilities of equality\n",
    "def is_after_date(the_date1, the_date2):\n",
    "    \"\"\"Enter two dates (using make_date) and will return True if the first date is after the second and vice versa\"\"\"\n",
    "    if the_date1.year>the_date2.year:\n",
    "        return True\n",
    "    if the_date1.year<the_date2.year:\n",
    "        return False\n",
    "    if the_date1.year==the_date2.year:\n",
    "        if the_date1.month>the_date2.month:\n",
    "            return True\n",
    "        if the_date1.month<the_date2.month:\n",
    "            return False\n",
    "        if the_date1.month==the_date2.month:\n",
    "            if the_date1.day>the_date2.day:\n",
    "                return True\n",
    "            if the_date1.day<the_date2.day:\n",
    "                return False\n",
    "            return False"
   ]
  },
  {
   "cell_type": "code",
   "execution_count": 310,
   "id": "742e8d7c-331a-4f60-b9ff-0aa3383a3834",
   "metadata": {},
   "outputs": [
    {
     "data": {
      "text/plain": [
       "False"
      ]
     },
     "execution_count": 310,
     "metadata": {},
     "output_type": "execute_result"
    }
   ],
   "source": [
    "june_six_nineteen_thirty_three=make_date(1933,6,22) #displaying\n",
    "september_seventeen_nineteen_thirty_three=make_date(1933,9,17)\n",
    "is_after_date(june_six_nineteen_thirty_three, september_seventeen_nineteen_thirty_three)"
   ]
  },
  {
   "cell_type": "markdown",
   "id": "27f29800-3f69-4279-bd35-7529cf39e5a8",
   "metadata": {},
   "source": [
    "Reflection\n",
    "1. What questions do you still have about classes in Python?\n",
    "2. What do you think is the most important thing to remember about classes?\n",
    "3. What resources did you consult to help you complete this lab?"
   ]
  },
  {
   "cell_type": "markdown",
   "id": "ed3e70e5-408a-4037-ae05-6d8f66976215",
   "metadata": {},
   "source": [
    "1. Classes are a very new topic for my education in Computer Science, so naturally I have many questions. What are some professional uses of classes outside of game programming (discussed in class)? How difficult are classes to learn relative to other programming subjects? Classes seem like they can be very useful for numerous programming needs, what are some of the disadvantages of classes?\n",
    "\n",
    "2. When completing this lab, I found it most important to remember the relationship between the parameters and the attributes. It is important to remember that it follows the format of parameter.attribute (after making the object). Once I had that down the rest was a breeze.\n",
    "\n",
    "3. Throughout the lab I had a couple of syntax errors that I was not quite sure how to fix, so I consulted ChatGPT and understood the corrections before making them. I did not have ChatGPT write any of my code, but I did have it help me point out a few minor errors. Throughout my programming experience, I have found that ChatGPT is good at debugging and syntax errors, which are my main uses for it."
   ]
  },
  {
   "cell_type": "code",
   "execution_count": null,
   "id": "b9bcfd5f-6079-4b7a-bf92-ebdc9bfdbbcc",
   "metadata": {},
   "outputs": [],
   "source": []
  }
 ],
 "metadata": {
  "kernelspec": {
   "display_name": "Python [conda env:base] *",
   "language": "python",
   "name": "conda-base-py"
  },
  "language_info": {
   "codemirror_mode": {
    "name": "ipython",
    "version": 3
   },
   "file_extension": ".py",
   "mimetype": "text/x-python",
   "name": "python",
   "nbconvert_exporter": "python",
   "pygments_lexer": "ipython3",
   "version": "3.12.7"
  }
 },
 "nbformat": 4,
 "nbformat_minor": 5
}
