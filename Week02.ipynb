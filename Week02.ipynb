{
 "cells": [
  {
   "cell_type": "code",
   "execution_count": 6,
   "id": "836ac3cc-3150-40b7-855d-3cd658c3a072",
   "metadata": {},
   "outputs": [
    {
     "name": "stdout",
     "output_type": "stream",
     "text": [
      " 1. Hello\n",
      " 2. Hello\n",
      " 3. Hello\n",
      " 4. Hello\n",
      " 5. Hello\n",
      " 6. Hello\n",
      " 7. Hello\n",
      " 8. Hello\n",
      " 9. Hello\n",
      " 10. Hello\n"
     ]
    }
   ],
   "source": [
    "for i in range(10):\n",
    "    print(f\" {i+1}. Hello\")"
   ]
  },
  {
   "cell_type": "code",
   "execution_count": 8,
   "id": "ab5f39a3-5817-45bb-b8b8-5923874ac820",
   "metadata": {},
   "outputs": [
    {
     "name": "stdout",
     "output_type": "stream",
     "text": [
      "a\n",
      "b\n",
      "c\n",
      "d\n"
     ]
    }
   ],
   "source": [
    "astring=\"abcd\"\n",
    "for char in astring:\n",
    "    print(char)"
   ]
  },
  {
   "cell_type": "code",
   "execution_count": 10,
   "id": "f03100ae-2de5-47e8-836a-cebd72bdbb9b",
   "metadata": {},
   "outputs": [
    {
     "name": "stdout",
     "output_type": "stream",
     "text": [
      "a\n",
      "b\n",
      "c\n",
      "d\n"
     ]
    }
   ],
   "source": [
    "listz=['a','b','c','d']\n",
    "for i in listz:\n",
    "    print(i)"
   ]
  },
  {
   "cell_type": "code",
   "execution_count": 72,
   "id": "d7e863d4-504e-4455-9d1d-67197f780d9c",
   "metadata": {},
   "outputs": [
    {
     "name": "stdout",
     "output_type": "stream",
     "text": [
      "('a', 1)\n",
      "('b', 2)\n",
      "('c', 3)\n",
      "now experimenting with keys and values\n",
      "a is the key for the value: 1\n",
      "b is the key for the value: 2\n",
      "c is the key for the value: 3\n",
      "other ways of printing a dictionary\n",
      "the keys are a | the value is 1\n",
      "the keys are b | the value is 2\n",
      "the keys are c | the value is 3\n"
     ]
    }
   ],
   "source": [
    "dict1={'a':1, 'b':2, 'c':3}\n",
    "for i in dict1.items():\n",
    "    print(i)\n",
    "\n",
    "print(\"now experimenting with keys and values\")\n",
    "\n",
    "for k,v in dict1.items():\n",
    "    print(f\"{k} is the key for the value: {v}\")\n",
    "\n",
    "\n",
    "print(\"other ways of printing a dictionary\")\n",
    "for k in dict1.keys():\n",
    "    print(f\"the keys are {k} | the value is {dict1[k]}\")"
   ]
  },
  {
   "cell_type": "code",
   "execution_count": null,
   "id": "8e0d1061-3154-4da6-9cb3-8bf6825d0602",
   "metadata": {},
   "outputs": [],
   "source": [
    "atuple=1,2,3,4,5,6,7,8,1"
   ]
  },
  {
   "cell_type": "code",
   "execution_count": 50,
   "id": "2dd53f6c-ca53-46e3-9341-eaed1acc5739",
   "metadata": {},
   "outputs": [
    {
     "name": "stdout",
     "output_type": "stream",
     "text": [
      "<class 'tuple'>\n"
     ]
    }
   ],
   "source": [
    "print(type(atuple))"
   ]
  },
  {
   "cell_type": "code",
   "execution_count": 54,
   "id": "45f5131e-636d-494e-9ef0-f601de66e311",
   "metadata": {},
   "outputs": [
    {
     "name": "stdout",
     "output_type": "stream",
     "text": [
      "2\n"
     ]
    }
   ],
   "source": [
    "print(atuple[1])"
   ]
  },
  {
   "cell_type": "code",
   "execution_count": 52,
   "id": "ada84b9e-1715-4500-8077-4a55a090e285",
   "metadata": {},
   "outputs": [
    {
     "data": {
      "text/plain": [
       "2"
      ]
     },
     "execution_count": 52,
     "metadata": {},
     "output_type": "execute_result"
    }
   ],
   "source": [
    "atuple.count(1)"
   ]
  },
  {
   "cell_type": "markdown",
   "id": "83bdf74b-1f5f-400a-a0d1-b16311c51476",
   "metadata": {},
   "source": [
    "Write a progtam using dictionaries to count the frequency of each letter in a given word. \n",
    "for ex. \"hello\"\n",
    "\n",
    "{'h':1,'e':1,'l':2,'o':1}"
   ]
  },
  {
   "cell_type": "code",
   "execution_count": 93,
   "id": "9b66a720-3f2a-4d72-8f9b-4614cbfb9761",
   "metadata": {},
   "outputs": [
    {
     "name": "stdin",
     "output_type": "stream",
     "text": [
      "enter a word ppppppppppoooooooooooooooooo\n"
     ]
    },
    {
     "name": "stdout",
     "output_type": "stream",
     "text": [
      "{'p': 10, 'o': 18}\n"
     ]
    }
   ],
   "source": [
    "dicth={}\n",
    "word=str(input(\"enter a word\")).lower()\n",
    "for char in word:\n",
    "    if char not in dicth:\n",
    "        dicth[char]=1\n",
    "    else:\n",
    "        dicth[char]+=1\n",
    "\n",
    "print(dicth)\n",
    "    "
   ]
  },
  {
   "cell_type": "code",
   "execution_count": 109,
   "id": "07d75f70-9c67-440f-a9ee-4264b0adfdd2",
   "metadata": {},
   "outputs": [
    {
     "data": {
      "text/plain": [
       "2"
      ]
     },
     "execution_count": 109,
     "metadata": {},
     "output_type": "execute_result"
    }
   ],
   "source": [
    "30%4"
   ]
  },
  {
   "cell_type": "code",
   "execution_count": 112,
   "id": "6212414d-5356-43da-905e-f16c5aebe244",
   "metadata": {},
   "outputs": [
    {
     "data": {
      "text/plain": [
       "2"
      ]
     },
     "execution_count": 112,
     "metadata": {},
     "output_type": "execute_result"
    }
   ],
   "source": [
    "5//2"
   ]
  },
  {
   "cell_type": "code",
   "execution_count": 116,
   "id": "9a9f2801-93c2-49cf-b8d3-19505a2cb8dd",
   "metadata": {},
   "outputs": [
    {
     "data": {
      "text/plain": [
       "28"
      ]
     },
     "execution_count": 116,
     "metadata": {},
     "output_type": "execute_result"
    }
   ],
   "source": [
    "x = 1  \n",
    "for i in range(1, 5):  \n",
    "    if i % 2 == 0:  \n",
    "        x *= i  \n",
    "    else:  \n",
    "        x += i\n",
    "x"
   ]
  },
  {
   "cell_type": "code",
   "execution_count": 118,
   "id": "09f9ea25-beca-40df-97b0-c556b18c5be7",
   "metadata": {},
   "outputs": [
    {
     "name": "stdout",
     "output_type": "stream",
     "text": [
      "Condition 1 met\n"
     ]
    }
   ],
   "source": [
    "x = 10  \n",
    "y = 20  \n",
    "z = 15  \n",
    "if x > y or z > x:  \n",
    "    if y - z == 5:  \n",
    "        print(\"Condition 1 met\")  \n",
    "    elif z + x < y:  \n",
    "        print(\"Condition 2 met\")  \n",
    "    else:  \n",
    "        print(\"Condition 3 met\")  \n",
    "else:  \n",
    "    print(\"No conditions met\")"
   ]
  },
  {
   "cell_type": "markdown",
   "id": "17abc381-faaa-4663-951c-15808c4e0eb2",
   "metadata": {},
   "source": [
    "Friday Class: enumerate(), and a bit more data structure"
   ]
  },
  {
   "cell_type": "code",
   "execution_count": 123,
   "id": "32a8cace-f06c-4379-a341-2969f409475e",
   "metadata": {},
   "outputs": [],
   "source": [
    "t=('a',1,2.2,[1,2,3])"
   ]
  },
  {
   "cell_type": "code",
   "execution_count": 131,
   "id": "b4f930dd-92bb-4f14-8cc2-88383e133774",
   "metadata": {},
   "outputs": [
    {
     "name": "stdout",
     "output_type": "stream",
     "text": [
      "(0, 'a')\n",
      "(1, 1)\n",
      "(2, 2.2)\n",
      "(3, [1, 2, 3])\n"
     ]
    }
   ],
   "source": [
    "x=()\n",
    "for i in enumerate(t):\n",
    "    print(i)"
   ]
  },
  {
   "cell_type": "code",
   "execution_count": 135,
   "id": "0c5511d3-5fdd-4270-80c8-0ec4c43aa200",
   "metadata": {},
   "outputs": [
    {
     "name": "stdout",
     "output_type": "stream",
     "text": [
      "1. larry\n",
      "2. love\n",
      "3. lorax\n"
     ]
    }
   ],
   "source": [
    "l=['larry','love','lorax']\n",
    "for ind, item in enumerate(l):\n",
    "    print(f\"{ind+1}. {item}\") "
   ]
  },
  {
   "cell_type": "markdown",
   "id": "5e7f3fb6-8e09-47fb-9c7c-a3c124f9c5ba",
   "metadata": {},
   "source": [
    "WHILE Loops"
   ]
  },
  {
   "cell_type": "code",
   "execution_count": 138,
   "id": "b6d7fae8-54fc-42a8-8a83-1f3ed2974d74",
   "metadata": {},
   "outputs": [
    {
     "ename": "SyntaxError",
     "evalue": "incomplete input (295140919.py, line 1)",
     "output_type": "error",
     "traceback": [
      "\u001b[1;36m  Cell \u001b[1;32mIn[138], line 1\u001b[1;36m\u001b[0m\n\u001b[1;33m    while condition:\u001b[0m\n\u001b[1;37m                    ^\u001b[0m\n\u001b[1;31mSyntaxError\u001b[0m\u001b[1;31m:\u001b[0m incomplete input\n"
     ]
    }
   ],
   "source": [
    "while condition:\n",
    "    stuff\n",
    "else:\n",
    "    stuff"
   ]
  },
  {
   "cell_type": "markdown",
   "id": "c44f6932-bde7-4783-b137-6afaf9455f15",
   "metadata": {},
   "source": [
    "List Comprehension"
   ]
  },
  {
   "cell_type": "code",
   "execution_count": 165,
   "id": "7f3dbdb9-24ed-4749-b8cd-fb673b4b4747",
   "metadata": {},
   "outputs": [
    {
     "data": {
      "text/plain": [
       "[10]"
      ]
     },
     "execution_count": 165,
     "metadata": {},
     "output_type": "execute_result"
    }
   ],
   "source": [
    "l1=list()\n",
    "l1.append(10)\n",
    "l1"
   ]
  },
  {
   "cell_type": "code",
   "execution_count": 167,
   "id": "a412eedf-985c-45c8-a2d5-57362c0c9d86",
   "metadata": {},
   "outputs": [
    {
     "data": {
      "text/plain": [
       "[10, 20]"
      ]
     },
     "execution_count": 167,
     "metadata": {},
     "output_type": "execute_result"
    }
   ],
   "source": [
    "l1.insert(1,20)\n",
    "l1"
   ]
  },
  {
   "cell_type": "markdown",
   "id": "bd2882b0-9d8a-4f6b-87a6-92edb6442241",
   "metadata": {},
   "source": [
    "# "
   ]
  },
  {
   "cell_type": "code",
   "execution_count": 143,
   "id": "71e3db6a-5ef0-4409-906e-d27a184e37ac",
   "metadata": {},
   "outputs": [
    {
     "name": "stdout",
     "output_type": "stream",
     "text": [
      "[0, 1, 4, 9, 16, 25, 36, 49, 64, 81]\n"
     ]
    }
   ],
   "source": [
    "#not LC\n",
    "squares=[]\n",
    "for x in range(10):\n",
    "    squares.append(x**2)\n",
    "print(squares)"
   ]
  },
  {
   "cell_type": "code",
   "execution_count": null,
   "id": "ad990938-3149-41d1-923f-bd836f81a11f",
   "metadata": {},
   "outputs": [],
   "source": [
    "#LC\n",
    "squares=["
   ]
  }
 ],
 "metadata": {
  "kernelspec": {
   "display_name": "Python [conda env:base] *",
   "language": "python",
   "name": "conda-base-py"
  },
  "language_info": {
   "codemirror_mode": {
    "name": "ipython",
    "version": 3
   },
   "file_extension": ".py",
   "mimetype": "text/x-python",
   "name": "python",
   "nbconvert_exporter": "python",
   "pygments_lexer": "ipython3",
   "version": "3.12.7"
  }
 },
 "nbformat": 4,
 "nbformat_minor": 5
}
