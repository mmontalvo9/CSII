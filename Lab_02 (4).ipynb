{
 "cells": [
  {
   "cell_type": "markdown",
   "id": "3c7e6aef-1e7e-4209-895b-777c334416a0",
   "metadata": {},
   "source": [
    "Exercise 1: Order Total Calculator"
   ]
  },
  {
   "cell_type": "markdown",
   "id": "aeb55359-a11a-4137-8a99-d7f103193fdc",
   "metadata": {},
   "source": [
    "Write a function to calculate the total cost of an order, including an optional tip."
   ]
  },
  {
   "cell_type": "code",
   "execution_count": 49,
   "id": "77caaf14-be50-44c5-9213-a2ff4bc3d64b",
   "metadata": {},
   "outputs": [],
   "source": [
    "def calculate_order(order_id, /, *item_costs, tip_percent=0): #using *args to allow any number of item_costs as arguments in the function\n",
    "    total_cost_item=sum(item_costs) #getting total (args)\n",
    "    tip_cost=total_cost_item*(tip_percent/100) #calculating tip cost\n",
    "    total=total_cost_item+tip_cost #adding total item and tip\n",
    "    return (f\"Order ID: {order_id}\\n\" #f string and \\n for formating\n",
    "            f\"Total Item Cost: {total_cost_item:.2f}\\n\" #:.2f to round to 2 decimal places\n",
    "            f\"Tip Cost: {tip_cost:.2f}\\n\"\n",
    "            f\"Total Cost: {total:.2f}\\n\")"
   ]
  },
  {
   "cell_type": "code",
   "execution_count": 39,
   "id": "4d67d48e-bfc8-442f-824f-675247e42ad8",
   "metadata": {},
   "outputs": [
    {
     "name": "stdout",
     "output_type": "stream",
     "text": [
      "Order ID: ORD123\n",
      "Total Item Cost: 35.98\n",
      "Tip Cost: 0.00\n",
      "Total Cost: 35.98\n",
      "\n"
     ]
    }
   ],
   "source": [
    "print(calculate_order(\"ORD123\", 15.99, 12.49, 7.50))"
   ]
  },
  {
   "cell_type": "code",
   "execution_count": 33,
   "id": "8bae7ecf-9354-45cc-b500-980c6340502a",
   "metadata": {},
   "outputs": [
    {
     "name": "stdout",
     "output_type": "stream",
     "text": [
      "Order ID: ORD124\n",
      "Total Item Cost: 30.00\n",
      "Tip Cost: 3.00\n",
      "Total Cost: 33.00\n",
      "\n"
     ]
    }
   ],
   "source": [
    "print(calculate_order(\"ORD124\", 20.00, 10.00, tip_percent=10))"
   ]
  },
  {
   "cell_type": "markdown",
   "id": "2fd2a246-9fd2-40c7-a54f-dac3af1c45ce",
   "metadata": {},
   "source": [
    "Exercise 2: Attendance Tracker"
   ]
  },
  {
   "cell_type": "markdown",
   "id": "6bed7467-748e-4ff4-9892-6a8cab9e87c3",
   "metadata": {},
   "source": [
    "Create a function to track attendance for a class."
   ]
  },
  {
   "cell_type": "code",
   "execution_count": 131,
   "id": "11c3d098-55ba-4d5a-8dec-831c816667d8",
   "metadata": {},
   "outputs": [],
   "source": [
    "def track_attendance(class_name, /, *students, **info): #using *similarly as above; **kwargs allows for a keyword and any number of arguements associated with a keyword\n",
    "    end=f\"Class: {class_name}\\n\" #global variable (f-string)\n",
    "    if students: \n",
    "        end+=\"Students:\\n\" #adding if students are inputted after class name\n",
    "        for i in students:\n",
    "            end+=f\"-{i}\\n\" #i represents the name of each student\n",
    "    if info:\n",
    "        end+=\"Additional Info:\\n\" #adding if info is inputted \n",
    "        for k,v in info.items(): #**kwargs, so we have to use .items(); k is the keyword and v is the value associated with the keyword\n",
    "            end+=f\"-{k}:{v}\\n\" #formatting\n",
    "    return end #returning everything added to end\n"
   ]
  },
  {
   "cell_type": "code",
   "execution_count": 135,
   "id": "5e84cc12-93ab-4c21-8758-feddbb073db9",
   "metadata": {},
   "outputs": [
    {
     "name": "stdout",
     "output_type": "stream",
     "text": [
      "Class: Python 101\n",
      "Students:\n",
      "-Alice\n",
      "-Bob\n",
      "-Charlie\n",
      "Additional Info:\n",
      "-date:2025-01-25\n",
      "-instructor:Dr. Smith\n",
      "\n"
     ]
    }
   ],
   "source": [
    "print(track_attendance(\"Python 101\", \"Alice\", \"Bob\", \"Charlie\", date=\"2025-01-25\", instructor=\"Dr. Smith\"))"
   ]
  },
  {
   "cell_type": "code",
   "execution_count": 137,
   "id": "776d5ebb-1167-4c1f-86ab-cf4e0588577e",
   "metadata": {},
   "outputs": [
    {
     "name": "stdout",
     "output_type": "stream",
     "text": [
      "Class: Data Science\n",
      "Students:\n",
      "-Eve\n",
      "-Oscar\n",
      "\n"
     ]
    }
   ],
   "source": [
    "print(track_attendance(\"Data Science\", \"Eve\", \"Oscar\"))"
   ]
  },
  {
   "cell_type": "markdown",
   "id": "b0723717-6b01-4def-9571-584e45337919",
   "metadata": {},
   "source": [
    "Exercise 3: Movie Night Organizer"
   ]
  },
  {
   "cell_type": "markdown",
   "id": "dd03ff42-572d-47ae-91ae-2c422d01300c",
   "metadata": {},
   "source": [
    "Plan a movie night using flexible function parameters."
   ]
  },
  {
   "cell_type": "code",
   "execution_count": 145,
   "id": "9a0f2fda-c39f-43fa-9e07-efdcb5f98f98",
   "metadata": {},
   "outputs": [],
   "source": [
    "def organize_movie_night(host, *movies, **details):\n",
    "    end=f\"Host: {host}\\n\" #global\n",
    "    if movies:\n",
    "        end+=\"Movies:\\n\" #addiing if titles entered after host\n",
    "        for i in movies: #iterates through each title\n",
    "            end+=f\"-{i}\\n\" #i represents the movie title\n",
    "    if details:\n",
    "        end+=\"Details:\\n\" #if keyword argument is used (kwargs), added string\n",
    "        for k,v in details.items():\n",
    "            end+=f\"-{k}:{v}\\n\" #k is keyword, v is value associated\n",
    "    return end #returning everything added to end\n",
    "    "
   ]
  },
  {
   "cell_type": "code",
   "execution_count": 155,
   "id": "85aeedd7-c7d0-4f85-b146-b90f243e8eb3",
   "metadata": {},
   "outputs": [
    {
     "name": "stdout",
     "output_type": "stream",
     "text": [
      "Host: Sophia\n",
      "Movies:\n",
      "-Inception\n",
      "-The Matrix\n",
      "-Interstellar\n",
      "Details:\n",
      "-location:Sophia's house\n",
      "-snacks:popcorn\n",
      "-date:2025-02-01\n",
      "\n"
     ]
    }
   ],
   "source": [
    "print(organize_movie_night(\n",
    " \"Sophia\", \n",
    " \"Inception\", \"The Matrix\", \"Interstellar\", \n",
    " location=\"Sophia's house\", snacks=\"popcorn\", date=\"2025-02-01\"\n",
    "))"
   ]
  },
  {
   "cell_type": "code",
   "execution_count": 149,
   "id": "e7e8cc5d-f354-4a3d-946e-5263ed7fbbf2",
   "metadata": {},
   "outputs": [
    {
     "name": "stdout",
     "output_type": "stream",
     "text": [
      "Host: Liam\n",
      "Movies:\n",
      "-Toy Story\n",
      "Details:\n",
      "-location:Liam's backyard\n",
      "-snacks:s'mores\n",
      "\n"
     ]
    }
   ],
   "source": [
    "print(organize_movie_night(\n",
    " \"Liam\", \n",
    " \"Toy Story\", \n",
    " location=\"Liam's backyard\", snacks=\"s'mores\"\n",
    "))\n"
   ]
  },
  {
   "cell_type": "markdown",
   "id": "838f6695-02c3-44a4-b5ef-5c7568701bed",
   "metadata": {},
   "source": [
    "Reflection\n",
    "1. Why is it beneficial to use *args for handling variable-length arguments in functions?\n",
    "2. How does **kwargs make functions more adaptable to real-world scenarios? Provide an example.\n",
    "3. What role do type annotations and docstrings play in enhancing collaboration and debugging in Python projects?\n",
    "4. What questions do you still have about functions in Python?"
   ]
  },
  {
   "cell_type": "markdown",
   "id": "fbf93c92-9352-42e7-a588-27de3b360f98",
   "metadata": {},
   "source": [
    "1. Using *args in Python is super useful when handling arguments in functions because it allows one to put as many arguments as they want for a function. For example, if we are defining a function with *args and the return includes sum(*integers) we now can get the sum of all integers in the output. Previously, the sum function only takes one or two arguments, making finding the sum of large numbers difficult. Now we can find the sum super quickly and efficiently.\n",
    "2. Like *args, **kwargs is also super useful and adaptable to the real world. Most humans do not know the basis of code, so it is important to make code readable for the average person. When we use **kwargs, we can display a keyword with its corresponding statement. For example, the code for the phone directory could be super simple and efficient using **kwargs. We could display the person's name: their phone number.\n",
    "3. Docstrings are very helpful for a user when implementing a function. They can provide instructions to someone who is confused or even help guide people in Python, among other benefits, such as conveying information to group members. Type annotations also improve clarity, as they tell the user exactly what type of arguments the function is expecting. This can easily point out a TypeError for example; instead of sitting there and scratching one's head thinking about what they did wrong, one can look at the type annotations and docstrings first. Both of these foster efficient collaboration and debugging as they minimize the confusion between team members and individuals.\n",
    "4. (Questions): While I have not worked a tremendous amount with functions, I believe that I have grasped a pretty good understanding of functions. That being said, I do have a lot of questions still. What career paths utilize the creation of new functions the most, or are they widely used across different Computer Science disciplines? Are there other beneficial uses of **kwargs and *args besides functions? What are other common keyword arguments utilized often in the real world?\n",
    "5. (After Researching): 1. My thinking aligns with ChatGPT's response, as we both said there could be a variable number of arguments with *args. ChatGPT also commented on the efficiency of *args, as it simplifies the code; I briefly touched upon this. 2. ChatGPT mentioned similar benefits to **kwargs, such as cleaner code, flexibility, API integrations and, more. **Kwargs would definitely have been useful in our API lab in Data Science last semester. ChatGPT also provided similar real-world examples, but not the same. It showed **kwargs ease of use for error handling, among others, which I touched upon briefly. 3. Throughout my response, I mainly talked about the improvement of clarity among team members when using type annotations and docstrings. ChatGPT's main focus was the same but mentioned type annotations and docstring's ability to increase maintainability and IDE support. In many modern IDEs, the use of docstring and type annotations can help the built-in AI figure out the code to write. While this is risky, it can speed up the process; it is very important to remember not blindly to utilize AI's code. 4. \"Functions are fundamental aspects to programming\" according to ChatGPT. Most career paths use functions to a degree, but they are utilized the most by software developers to handle specific tasks like data processing. In regards to *args and **kwargs utilization outside of functions, I have not been able to find any after consulting many sources. Some other common keyword arguments are timeout and headers. According to Stack Overflow, the timeout parameter accepts the number of seconds to wait as a float before timing out when dealing with requests. Headers are also used commonly with requests and are beneficial for formatting.\n",
    "6. (Logic and source): The logic of parameters and arguments makes a lot more sense to me after our class discussion and research for this lab. I feel like I have been able to grasp a lot of these concepts quickly and I am eager to learn more. Throughout my research, I consulted ChatGPT a lot, which has proven to be pretty trustworthy. There have been very few instances where ChatGPT has been wrong for me in Computer Science, but it is important to be on the lookout and always understand what ChatGPT is doing. Stack Overflow has been even more credible in my experience. Many of the posts on Stack Overflow are from other people who have tested and proven the reliability of their code. More often than not there is also an explanation that follows, which is very helpful for me as I learn more, but as always, it is important to double-check. "
   ]
  },
  {
   "cell_type": "code",
   "execution_count": null,
   "id": "0597a279-1498-4040-a679-a6b8b1587f21",
   "metadata": {},
   "outputs": [],
   "source": []
  }
 ],
 "metadata": {
  "kernelspec": {
   "display_name": "Python [conda env:base] *",
   "language": "python",
   "name": "conda-base-py"
  },
  "language_info": {
   "codemirror_mode": {
    "name": "ipython",
    "version": 3
   },
   "file_extension": ".py",
   "mimetype": "text/x-python",
   "name": "python",
   "nbconvert_exporter": "python",
   "pygments_lexer": "ipython3",
   "version": "3.12.7"
  }
 },
 "nbformat": 4,
 "nbformat_minor": 5
}
