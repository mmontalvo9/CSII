{
 "cells": [
  {
   "cell_type": "markdown",
   "id": "2a847513-3200-4ead-8801-f94d5757b1b0",
   "metadata": {},
   "source": [
    "Exercise 1: Talk with an LLM\n",
    "\n",
    "Have a conversation with an LLM (this could be ChatGPT, Claude, or any other LLM) to solidify your understanding. Consider asking the following questions:\n",
    "\n",
    "1. What’s the difference between an instance method and a static method?\n",
    "2. Why are static methods called static?\n",
    "3. Summarize your conversation in your own words, make sure to include examples in the lab report.\n",
    "\n",
    "Avoid copying the LLM’s response directly. Research indicates that rephrasing the information helps reinforce your understanding"
   ]
  },
  {
   "cell_type": "markdown",
   "id": "fdf52391-82bb-483b-a774-125feba2fc35",
   "metadata": {},
   "source": [
    "1. Throughout my recent labs, I have been referencing ChatGPT a lot, but I recently installed Ollama, so I decided to give Ollama a try. In object-oriented programming (OOP), there are generally two categories that classify methods. The first category is an instance method, which is associated with an instance of a class; each instance has its version of the method. Within a class, we typically define methods that are indented below the class. Each method that is described is the instance method. The format usually follows variable.instancemethod() after it has been defined in the class. Static methods belong to the class, rather than the instance of the defined class. Instance methods access the variable's attributes, but static methods do not access the instance's state. In short, one uses an instance method to access and/or modify the state of the object, and static methods do not require an object to be made and can be called directly."
   ]
  },
  {
   "cell_type": "markdown",
   "id": "0e3fc7fe-50b6-4d8e-b68f-be3b21596677",
   "metadata": {},
   "source": [
    "2. As mentioned previously, static methods belong to the class, not the instances of the class. In OOP, the \"static\" in static methods refers to the association to only the class itself, not the instances and their attributes. Static methods are like blueprints in the sense that they can be used by anyone who has access and is the framework. In contrast, instance methods are the details tailored to the individual, rather than the make-up of the framework."
   ]
  },
  {
   "cell_type": "markdown",
   "id": "0cd1c995-21ce-49da-894f-14075e9564ff",
   "metadata": {},
   "source": [
    "Examples:\n",
    "\n",
    "\n",
    "class Person:\n",
    "\n",
    "    def __init__(self, name):\n",
    "        \"\"\"\n",
    "        Initialize a Person object with a name.\n",
    "        \n",
    "        Args:\n",
    "            name (str): The name of the person.\n",
    "        \"\"\"\n",
    "\n",
    "        self.name = name\n",
    "\n",
    "    def greet(self):\n",
    "        \"\"\"\n",
    "        Print a greeting message using the person's name.\n",
    "        \"\"\"\n",
    "        print(f\"Hello, my name is {self.name}!\")\n",
    "person = Person(\"John\")\n",
    "person.greet()  # Output: Hello, my name is John!\n",
    "\n",
    "In this example, greet() is the instance method because it uses self to access the instance and then modify the instance's state.\n",
    "\n",
    "------------------------------------------------------------\n",
    "\n",
    "class UtilityClass:\n",
    "    \n",
    "       def my_static_method():\n",
    "            print(\"This is a static method without the @staticmethod decorator.\")\n",
    "\n",
    "In this example, my_static_method() is a static method because it does not access self to access the instance (not depending on the instance-specific data)\n",
    "        "
   ]
  },
  {
   "cell_type": "markdown",
   "id": "5fe286e2-29e3-44a2-82cd-fe6f0b507e9e",
   "metadata": {},
   "source": [
    "3. My conversation with Ollama 3.2 was very helpful in improving my understanding of instance methods and static methods. These two concepts are easy to mix up, which makes the reinforcement of the topics through large language models (LLM) very helpful. Instance methods call upon self, which is defined in the class. When calling upon self, we are accessing the instance and the instance method modifies the state of the instance. This is very useful when changing the attribute of an instance, such as modifying the age of a person. Static methods get their name from only associating with the class, not the instance; they are very general and are used when avoiding the creation of instances and have a specific use outside of the instance. The blueprint analogy is very helpful in understanding the difference between the two. Static methods are the framework and can be used by anyone. Instance methods are used to change the details of an instance. A person can build a house with the blueprint, but the blueprint does not refer to the exact house being built."
   ]
  },
  {
   "cell_type": "markdown",
   "id": "273af1a3-e5b3-4c39-81f6-8a1cdc1276ad",
   "metadata": {},
   "source": [
    "Time Class Example "
   ]
  },
  {
   "cell_type": "code",
   "execution_count": 107,
   "id": "453a48b7-80d7-49ea-bd47-1d15130dfadb",
   "metadata": {},
   "outputs": [],
   "source": [
    "#FROM LLM Directly, not written by me\n",
    "class Time:\n",
    "    \"\"\"\n",
    "        Initialize a Time object with hours, minutes, and seconds.\n",
    "        \n",
    "        Args:\n",
    "            hours (int): The number of hours.\n",
    "            minutes (int): The number of minutes.\n",
    "            seconds (int): The number of seconds.\n",
    "        \"\"\"\n",
    "    def __init__(self, hours, minutes, seconds):\n",
    "        self.hours = hours\n",
    "        self.minutes = minutes\n",
    "        self.seconds = seconds\n",
    "\n",
    "    def time_to_int(self):\n",
    "        return self.hours * 3600 + self.minutes * 60 + self.seconds\n",
    "\n",
    "    def subtract_time(self, other):\n",
    "        return self.time_to_int() - other.time_to_int()"
   ]
  },
  {
   "cell_type": "markdown",
   "id": "a0e33bae-693d-4868-8116-319c44720e69",
   "metadata": {},
   "source": [
    "Exercise 2"
   ]
  },
  {
   "cell_type": "markdown",
   "id": "48acc647-7cdc-42cc-b386-dcc0fe1a636c",
   "metadata": {},
   "source": [
    "1. Write a definition for a Date class that represents a date—that is, a year, month, and day of the month.\n",
    "2. Write an __init__ method that takes year, month, and day as parameters and assigns the parameters to attributes. Create an object that represents June 22, 1933.\n",
    "3. Write a __str__ method that uses a format string to format the attributes and returns the result. If you test it with the Date you created, the result should be 1933-06-22.\n",
    "4. Write a method called is_after that takes two Date objects and returns True if the first comes after the second. Create a second object that represents September 17, 1933, and check whether it comes after the first object."
   ]
  },
  {
   "cell_type": "code",
   "execution_count": 111,
   "id": "707caba4-3829-406d-8147-d3ec0a34be5f",
   "metadata": {},
   "outputs": [],
   "source": [
    "class Date: \n",
    "    def __init__(self,year,month,day):\n",
    "        \"\"\"Initializing a Date object using year, month, day\"\"\"\n",
    "        self.year=year #instance attribute\n",
    "        self.month=month #instance attribute\n",
    "        self.day=day #instance attribute\n",
    "    def __str__(self):\n",
    "        \"\"\"Will return a formatted Date object\"\"\"\n",
    "        return f\"Date({self.year}-{self.month}-{self.day})\" #formatted f-string with instance attributes\n",
    "    def is_after(self,other): #instance method\n",
    "        \"\"\"enter self.is_after(other) to see if self (date) is after other (separate date); self and other should be already created Date objects\"\"\"\n",
    "        #very long conditional function that returns True if the first date comes after the second\n",
    "        #must account for all possibilities of equality\n",
    "        #True if self comes after other, otherwise False\n",
    "        if self.year>other.year:\n",
    "            return True\n",
    "        if self.year<other.year:\n",
    "            return False\n",
    "        if self.year==other.year:\n",
    "            if self.month>other.month:\n",
    "                return True\n",
    "            if self.month<other.month:\n",
    "                return False\n",
    "            if self.month==other.month:\n",
    "                if self.day>other.day:\n",
    "                    return True\n",
    "                if self.day<other.day:\n",
    "                    return False\n",
    "                return False\n",
    "        "
   ]
  },
  {
   "cell_type": "code",
   "execution_count": 113,
   "id": "086e7eb8-5be6-40e7-b1d5-5ec09632ad0c",
   "metadata": {},
   "outputs": [
    {
     "name": "stdout",
     "output_type": "stream",
     "text": [
      "Date(1933-6-22)\n"
     ]
    }
   ],
   "source": [
    "june_22_1933=Date(1933,6,22) #creating Date object\n",
    "print(june_22_1933)"
   ]
  },
  {
   "cell_type": "code",
   "execution_count": 115,
   "id": "fe5a9b46-9f81-4c07-9cbd-d8708ab1dade",
   "metadata": {},
   "outputs": [
    {
     "name": "stdout",
     "output_type": "stream",
     "text": [
      "Date(1933-9-17)\n"
     ]
    }
   ],
   "source": [
    "September_17_1933=Date(1933,9,17) #creating Date object\n",
    "print(September_17_1933)"
   ]
  },
  {
   "cell_type": "code",
   "execution_count": 117,
   "id": "7cbaa9d1-6a71-423e-81b7-b78fb90a6d25",
   "metadata": {},
   "outputs": [
    {
     "data": {
      "text/plain": [
       "True"
      ]
     },
     "execution_count": 117,
     "metadata": {},
     "output_type": "execute_result"
    }
   ],
   "source": [
    "September_17_1933.is_after(june_22_1933) #utilizing the instance method to check if September 17, 1933 is after June 22, 1933; return True if so, False otherwise"
   ]
  },
  {
   "cell_type": "markdown",
   "id": "35c17ed2-6dee-4729-bff6-56ea9b5ca977",
   "metadata": {},
   "source": [
    "Reflection\n",
    "1. What aspects of working with classes do you find most challenging?\n",
    "2. How would you explain the purpose and benefits of using classes to someone unfamiliar with object-oriented programming?\n",
    "3. How did your approach evolve as you worked through this lab?"
   ]
  },
  {
   "cell_type": "markdown",
   "id": "63ac4769-f725-4ec3-a618-a77474373571",
   "metadata": {},
   "source": [
    "1. My understanding of classes has grown a lot and I believe that I am in a good place, but I mix up the terminology a bit sometimes. The conversation with Ollama helped my clarity of the terms associated with classes in Python, such as static and instance methods. The new addition of __init__ was also a bit confusing at first. After realizing we do not need a make_date() like function now, the __init__ function makes a lot more sense.\n",
    "2. To someone unfamiliar with object-oriented programming, I would explain the use of classes with the blueprint analogy. The class is the blueprint for a house. Anybody can build a house with a blueprint, but only the general aspects of the house. A tiny pink house, for example, is the instance/object of the class. One of the main benefits of classes are the ability to store attributes, like house color, size, etc. We can also create methods that act on the object like open_window(). Classes are also convenient because they do not extend to just a single object, they can be extended to all objects in the class (all houses). It is also super easy to modify the steps of a blueprint, as it may just be changing one simple line of code.\n",
    "3. My approach changed based on what I learned from Ollama. Keeping what I learned from Ollama in mind, I was able to get through the steps of the lab with ease. The use of self was super important and allowed for simplicity in my code. Adding clear comments and docstrings also made my thought process a lot clearer as I was writing code."
   ]
  },
  {
   "cell_type": "code",
   "execution_count": null,
   "id": "50c23719-d3cc-4d20-8f70-209a0caaee7e",
   "metadata": {},
   "outputs": [],
   "source": []
  }
 ],
 "metadata": {
  "kernelspec": {
   "display_name": "Python [conda env:base] *",
   "language": "python",
   "name": "conda-base-py"
  },
  "language_info": {
   "codemirror_mode": {
    "name": "ipython",
    "version": 3
   },
   "file_extension": ".py",
   "mimetype": "text/x-python",
   "name": "python",
   "nbconvert_exporter": "python",
   "pygments_lexer": "ipython3",
   "version": "3.12.7"
  }
 },
 "nbformat": 4,
 "nbformat_minor": 5
}
