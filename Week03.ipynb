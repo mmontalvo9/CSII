{
 "cells": [
  {
   "cell_type": "markdown",
   "id": "2b205d48-a178-42d6-80d6-45cb8152b30b",
   "metadata": {},
   "source": [
    "Week 3; Functions and tsuff from before (list comprehension)"
   ]
  },
  {
   "cell_type": "code",
   "execution_count": 31,
   "id": "30a7936d-930b-4c3c-ac59-1929752b537f",
   "metadata": {},
   "outputs": [
    {
     "data": {
      "text/plain": [
       "[47, 91, 75, 96, 74, 78, 82, 28, 68, 97]"
      ]
     },
     "execution_count": 31,
     "metadata": {},
     "output_type": "execute_result"
    }
   ],
   "source": [
    "#create a random list of 10 values 10 to 99\n",
    "\n",
    "import random\n",
    "s=[]\n",
    "for i in range(10):\n",
    "    y=random.randint(10,99)\n",
    "    s.append(y)\n",
    "s"
   ]
  },
  {
   "cell_type": "code",
   "execution_count": 69,
   "id": "27f89b0c-65bb-4ff0-8220-d3d408748d54",
   "metadata": {},
   "outputs": [],
   "source": [
    "import random\n",
    "\n",
    "x=[[random.randint(10,99) for i in range(10)]for i in range(10)]"
   ]
  },
  {
   "cell_type": "code",
   "execution_count": 71,
   "id": "715aaacb-df70-45d6-a924-8aa5e1a1aecb",
   "metadata": {},
   "outputs": [
    {
     "data": {
      "text/plain": [
       "[[99, 13, 26, 60, 30, 38, 34, 40, 89, 53],\n",
       " [92, 19, 97, 89, 55, 95, 42, 51, 39, 55],\n",
       " [47, 28, 46, 10, 45, 39, 23, 48, 88, 16],\n",
       " [77, 65, 78, 54, 63, 14, 17, 61, 81, 79],\n",
       " [62, 50, 46, 10, 14, 10, 73, 12, 59, 63],\n",
       " [62, 12, 91, 73, 29, 42, 68, 64, 98, 15],\n",
       " [78, 52, 24, 40, 96, 61, 37, 66, 70, 52],\n",
       " [85, 81, 33, 72, 93, 56, 77, 71, 79, 14],\n",
       " [59, 71, 97, 23, 49, 87, 53, 36, 36, 28],\n",
       " [61, 13, 20, 34, 95, 21, 54, 92, 45, 19]]"
      ]
     },
     "execution_count": 71,
     "metadata": {},
     "output_type": "execute_result"
    }
   ],
   "source": [
    "x"
   ]
  },
  {
   "cell_type": "code",
   "execution_count": null,
   "id": "e2bddc88-7c86-454b-9d46-01c33fcceee0",
   "metadata": {},
   "outputs": [],
   "source": []
  },
  {
   "cell_type": "code",
   "execution_count": 81,
   "id": "c5364995-5469-403c-97ea-184c6ee3faee",
   "metadata": {},
   "outputs": [],
   "source": [
    "arr1 = [2,3,1,3,2,4,6,7,9,2,19]\n",
    "arr2 = [2,1,4,3,9,6]\n",
    "for i in arr1:\n",
    "    if i in arr2:\n",
    "        arr2.append(i)\n",
    "        arr1.remove(i)\n",
    "arr2.extend(arr1)\n",
    "x=arr2.sort()\n",
    "x"
   ]
  },
  {
   "cell_type": "markdown",
   "id": "35bc1700-ef9f-4fca-b60f-6ebaa78af389",
   "metadata": {},
   "source": [
    "Use a nested loop 2D list that has 100 random values between 10 and 99"
   ]
  },
  {
   "cell_type": "code",
   "execution_count": 86,
   "id": "eb3e9919-e40b-4406-bdb0-7514f6e96b3f",
   "metadata": {},
   "outputs": [
    {
     "data": {
      "text/plain": [
       "[[20, 66, 21, 34, 68, 53, 84, 58, 53, 40],\n",
       " [84, 21, 14, 54, 89, 53, 38, 11, 58, 31],\n",
       " [38, 54, 96, 54, 99, 65, 50, 34, 47, 92],\n",
       " [91, 51, 20, 69, 49, 44, 72, 27, 42, 47],\n",
       " [16, 26, 79, 78, 84, 87, 16, 48, 17, 69],\n",
       " [46, 81, 98, 94, 81, 82, 52, 43, 42, 24],\n",
       " [45, 90, 34, 73, 20, 93, 59, 62, 91, 10],\n",
       " [64, 21, 70, 66, 21, 72, 63, 10, 80, 25],\n",
       " [64, 31, 44, 41, 91, 16, 80, 64, 63, 40],\n",
       " [81, 55, 55, 65, 43, 84, 10, 98, 51, 97]]"
      ]
     },
     "execution_count": 86,
     "metadata": {},
     "output_type": "execute_result"
    }
   ],
   "source": [
    "final=[]\n",
    "for i in range(10):\n",
    "    rows=[]\n",
    "    for j in range(10):\n",
    "        rows.append(random.randint(10,99))\n",
    "    final.append(rows)\n",
    "final\n",
    "        "
   ]
  },
  {
   "cell_type": "markdown",
   "id": "268a5967-4592-4e3c-a0be-9476e78d0b5a",
   "metadata": {},
   "source": [
    "Functions"
   ]
  },
  {
   "cell_type": "code",
   "execution_count": 131,
   "id": "db76b3ce-621e-4722-bf38-6b69f33fb4dd",
   "metadata": {},
   "outputs": [],
   "source": [
    "def greet():\n",
    "    return \"Hello\""
   ]
  },
  {
   "cell_type": "code",
   "execution_count": 133,
   "id": "8ce49112-4db8-4937-9a17-8cbddfd9484a",
   "metadata": {},
   "outputs": [
    {
     "data": {
      "text/plain": [
       "str"
      ]
     },
     "execution_count": 133,
     "metadata": {},
     "output_type": "execute_result"
    }
   ],
   "source": [
    "type(greet())"
   ]
  },
  {
   "cell_type": "code",
   "execution_count": 139,
   "id": "1be88182-39d9-461f-8f9d-4f49ddf4bb53",
   "metadata": {},
   "outputs": [],
   "source": [
    "def greet2():\n",
    "    print(\"Hello\")"
   ]
  },
  {
   "cell_type": "code",
   "execution_count": 141,
   "id": "cebb8553-cc3a-4a0f-b74b-8e58a3b0535c",
   "metadata": {},
   "outputs": [
    {
     "name": "stdout",
     "output_type": "stream",
     "text": [
      "Hello\n"
     ]
    },
    {
     "data": {
      "text/plain": [
       "NoneType"
      ]
     },
     "execution_count": 141,
     "metadata": {},
     "output_type": "execute_result"
    }
   ],
   "source": [
    "type(greet2())"
   ]
  },
  {
   "cell_type": "code",
   "execution_count": 143,
   "id": "7e56cc86-9d5a-4bda-b997-20645651782a",
   "metadata": {},
   "outputs": [],
   "source": [
    "def greet3(name):\n",
    "    return f\"Hello {name}\""
   ]
  },
  {
   "cell_type": "code",
   "execution_count": 149,
   "id": "696c6145-97c4-43c8-b0c2-b9ba546418bc",
   "metadata": {},
   "outputs": [
    {
     "data": {
      "text/plain": [
       "'Hello Seb'"
      ]
     },
     "execution_count": 149,
     "metadata": {},
     "output_type": "execute_result"
    }
   ],
   "source": [
    "x=\"Seb\"\n",
    "greet3(x)"
   ]
  },
  {
   "cell_type": "code",
   "execution_count": 152,
   "id": "95693900-b5fb-4eb4-b3db-a7132a584b2b",
   "metadata": {},
   "outputs": [],
   "source": [
    "def enhanced_greet(name,greeting):\n",
    "    return f\"{greeting}, {name}!\""
   ]
  },
  {
   "cell_type": "code",
   "execution_count": 156,
   "id": "2cb1ac94-604b-4223-a73b-04b017317f43",
   "metadata": {},
   "outputs": [
    {
     "data": {
      "text/plain": [
       "'hi, Gavin!'"
      ]
     },
     "execution_count": 156,
     "metadata": {},
     "output_type": "execute_result"
    }
   ],
   "source": [
    "enhanced_greet(\"Gavin\",\"hi\")"
   ]
  },
  {
   "cell_type": "code",
   "execution_count": 158,
   "id": "d83d8abd-cdca-4f91-ae33-6d8d856688dd",
   "metadata": {},
   "outputs": [
    {
     "name": "stdout",
     "output_type": "stream",
     "text": [
      "Hello, Seb!\n"
     ]
    }
   ],
   "source": [
    "print(enhanced_greet(greeting=\"Hello\", name=\"Seb\"))"
   ]
  },
  {
   "cell_type": "code",
   "execution_count": 170,
   "id": "f53c0896-cb70-44d6-8855-870abc3d6487",
   "metadata": {},
   "outputs": [],
   "source": [
    "def enhanced_greetingV2(name, greeting=\"Hello\", statement=\"I hope you have a nice day\"): #default\n",
    "    return f\"{greeting}, {name}. {statement}!\""
   ]
  },
  {
   "cell_type": "code",
   "execution_count": 172,
   "id": "d88883d6-641a-4423-9f6a-153efdb67fcd",
   "metadata": {},
   "outputs": [
    {
     "name": "stdout",
     "output_type": "stream",
     "text": [
      "Hello, Seb. I hope you have a nice day!\n"
     ]
    }
   ],
   "source": [
    "print(enhanced_greetingV2(\"Seb\"))"
   ]
  },
  {
   "cell_type": "code",
   "execution_count": 186,
   "id": "b0038ee1-4d05-48c8-ae9a-e29ba3f0b981",
   "metadata": {},
   "outputs": [],
   "source": [
    "def enhanced_greetingV3(name:str, greeting:str, statement:str)->str:\n",
    "    return f\"{greeting}, {name}, {statement}!\""
   ]
  },
  {
   "cell_type": "code",
   "execution_count": 194,
   "id": "56a3ec89-89a1-420d-94cb-5e3a1419d4f9",
   "metadata": {},
   "outputs": [
    {
     "data": {
      "text/plain": [
       "'Hello, Seb, Have a good day!'"
      ]
     },
     "execution_count": 194,
     "metadata": {},
     "output_type": "execute_result"
    }
   ],
   "source": [
    "enhanced_greetingV3(\"Seb\", \"Hello\", \"Have a good day\")"
   ]
  },
  {
   "cell_type": "code",
   "execution_count": 196,
   "id": "2a35b20c-9d00-49f9-ba42-a3bae3f41cf7",
   "metadata": {},
   "outputs": [],
   "source": [
    "def enhanced_greetingV3(name:str, greeting:str, statement:str)->str:\n",
    "    if not isinstance(name, str):\n",
    "        raise TypeError(f\"{name} must be str.\")\n",
    "    return f\"{greeting}, {name}, {statement}!\""
   ]
  },
  {
   "cell_type": "code",
   "execution_count": 198,
   "id": "5ef302e4-5779-48c4-9f44-535144dc4094",
   "metadata": {},
   "outputs": [
    {
     "ename": "TypeError",
     "evalue": "3 must be str.",
     "output_type": "error",
     "traceback": [
      "\u001b[1;31m---------------------------------------------------------------------------\u001b[0m",
      "\u001b[1;31mTypeError\u001b[0m                                 Traceback (most recent call last)",
      "Cell \u001b[1;32mIn[198], line 1\u001b[0m\n\u001b[1;32m----> 1\u001b[0m enhanced_greetingV3(\u001b[38;5;241m3\u001b[39m, \u001b[38;5;124m\"\u001b[39m\u001b[38;5;124mHello\u001b[39m\u001b[38;5;124m\"\u001b[39m, \u001b[38;5;124m\"\u001b[39m\u001b[38;5;124mHave a good day\u001b[39m\u001b[38;5;124m\"\u001b[39m)\n",
      "Cell \u001b[1;32mIn[196], line 3\u001b[0m, in \u001b[0;36menhanced_greetingV3\u001b[1;34m(name, greeting, statement)\u001b[0m\n\u001b[0;32m      1\u001b[0m \u001b[38;5;28;01mdef\u001b[39;00m \u001b[38;5;21menhanced_greetingV3\u001b[39m(name:\u001b[38;5;28mstr\u001b[39m, greeting:\u001b[38;5;28mstr\u001b[39m, statement:\u001b[38;5;28mstr\u001b[39m)\u001b[38;5;241m-\u001b[39m\u001b[38;5;241m>\u001b[39m\u001b[38;5;28mstr\u001b[39m:\n\u001b[0;32m      2\u001b[0m     \u001b[38;5;28;01mif\u001b[39;00m \u001b[38;5;129;01mnot\u001b[39;00m \u001b[38;5;28misinstance\u001b[39m(name, \u001b[38;5;28mstr\u001b[39m):\n\u001b[1;32m----> 3\u001b[0m         \u001b[38;5;28;01mraise\u001b[39;00m \u001b[38;5;167;01mTypeError\u001b[39;00m(\u001b[38;5;124mf\u001b[39m\u001b[38;5;124m\"\u001b[39m\u001b[38;5;132;01m{\u001b[39;00mname\u001b[38;5;132;01m}\u001b[39;00m\u001b[38;5;124m must be str.\u001b[39m\u001b[38;5;124m\"\u001b[39m)\n\u001b[0;32m      4\u001b[0m     \u001b[38;5;28;01mreturn\u001b[39;00m \u001b[38;5;124mf\u001b[39m\u001b[38;5;124m\"\u001b[39m\u001b[38;5;132;01m{\u001b[39;00mgreeting\u001b[38;5;132;01m}\u001b[39;00m\u001b[38;5;124m, \u001b[39m\u001b[38;5;132;01m{\u001b[39;00mname\u001b[38;5;132;01m}\u001b[39;00m\u001b[38;5;124m, \u001b[39m\u001b[38;5;132;01m{\u001b[39;00mstatement\u001b[38;5;132;01m}\u001b[39;00m\u001b[38;5;124m!\u001b[39m\u001b[38;5;124m\"\u001b[39m\n",
      "\u001b[1;31mTypeError\u001b[0m: 3 must be str."
     ]
    }
   ],
   "source": [
    "enhanced_greetingV3(3, \"Hello\", \"Have a good day\")"
   ]
  },
  {
   "cell_type": "code",
   "execution_count": 234,
   "id": "b99b17f7-7d07-4468-aa30-919565ed0429",
   "metadata": {},
   "outputs": [],
   "source": [
    "def calculate_area(l:float,w:float,unit:str=\"square feet\")->float:\n",
    "    \"\"\"Enter the length,width to find the total area or the rectangle\"\"\"\n",
    "    return f\"Area:{l*w:.2f} {unit}\""
   ]
  },
  {
   "cell_type": "code",
   "execution_count": 236,
   "id": "2704d01d-7710-4723-aa27-61fa3a41e13d",
   "metadata": {},
   "outputs": [
    {
     "data": {
      "text/plain": [
       "'Area:15.84 sqft'"
      ]
     },
     "execution_count": 236,
     "metadata": {},
     "output_type": "execute_result"
    }
   ],
   "source": [
    "calculate_area(3.6,4.4,\"sqft\")"
   ]
  },
  {
   "cell_type": "code",
   "execution_count": 238,
   "id": "1320d893-f139-4a16-b4fb-16c6af2697b0",
   "metadata": {},
   "outputs": [
    {
     "data": {
      "text/plain": [
       "'Area:15.84 square feet'"
      ]
     },
     "execution_count": 238,
     "metadata": {},
     "output_type": "execute_result"
    }
   ],
   "source": [
    "calculate_area(3.6,4.4)"
   ]
  },
  {
   "cell_type": "markdown",
   "id": "4974c1fc-6ed7-49fe-8f2a-5b510744e2c1",
   "metadata": {},
   "source": [
    "Docstring and documentation (added in above)"
   ]
  },
  {
   "cell_type": "code",
   "execution_count": 240,
   "id": "3336ab2a-8309-42e7-8e14-837ba091568c",
   "metadata": {},
   "outputs": [
    {
     "name": "stdout",
     "output_type": "stream",
     "text": [
      "Help on function calculate_area in module __main__:\n",
      "\n",
      "calculate_area(l: float, w: float, unit: str = 'square feet') -> float\n",
      "    Enter the length,width to find the total area or the rectangle\n",
      "\n"
     ]
    }
   ],
   "source": [
    "help(calculate_area)"
   ]
  },
  {
   "cell_type": "markdown",
   "id": "9e38211b-8c65-46ae-912b-dfab98d116b3",
   "metadata": {},
   "source": [
    "def subtract(first_num:int,second_num:int)->int:\n",
    "    \"\"\"returns the result of subtracting the first number,second number\"\"\"\n",
    "    result=first_num-second_num\n",
    "    return result"
   ]
  },
  {
   "cell_type": "code",
   "execution_count": 251,
   "id": "0009e8cb-d6ff-4f89-8ca7-8187f99b66f6",
   "metadata": {},
   "outputs": [
    {
     "data": {
      "text/plain": [
       "2"
      ]
     },
     "execution_count": 251,
     "metadata": {},
     "output_type": "execute_result"
    }
   ],
   "source": [
    "subtract(3,1)"
   ]
  },
  {
   "cell_type": "code",
   "execution_count": 259,
   "id": "b343e2f9-2f9e-4b65-8482-abd32761f450",
   "metadata": {},
   "outputs": [],
   "source": [
    "def sum_all(a,b,c):\n",
    "    return a+b+c"
   ]
  },
  {
   "cell_type": "code",
   "execution_count": 261,
   "id": "c4a7f863-1162-4acd-82a1-7805c82d1581",
   "metadata": {},
   "outputs": [
    {
     "data": {
      "text/plain": [
       "9"
      ]
     },
     "execution_count": 261,
     "metadata": {},
     "output_type": "execute_result"
    }
   ],
   "source": [
    "sum_all(3,3,3)"
   ]
  },
  {
   "cell_type": "code",
   "execution_count": 280,
   "id": "fee759a1-86c7-47b9-a670-815f362702df",
   "metadata": {},
   "outputs": [],
   "source": [
    "def sum_all_enhanced(*number): #everythhing; known as args\n",
    "    return sum(number)"
   ]
  },
  {
   "cell_type": "code",
   "execution_count": 282,
   "id": "65145e50-69b4-4451-9e29-ea11363459c4",
   "metadata": {},
   "outputs": [
    {
     "data": {
      "text/plain": [
       "15"
      ]
     },
     "execution_count": 282,
     "metadata": {},
     "output_type": "execute_result"
    }
   ],
   "source": [
    "sum_all_enhanced(3,3,3,3,3)"
   ]
  },
  {
   "cell_type": "code",
   "execution_count": 360,
   "id": "b3d97806-cd11-4e9f-b48a-6fed6f7460f1",
   "metadata": {},
   "outputs": [],
   "source": [
    "def calculate_avg(*scores):\n",
    "    total=sum(scores)\n",
    "    number=len(scores)\n",
    "    avg=total/number\n",
    "    return f\"The avg score is {avg:5f}\""
   ]
  },
  {
   "cell_type": "code",
   "execution_count": 362,
   "id": "bd8440dd-c686-4b1f-9a9e-69e22a105be7",
   "metadata": {},
   "outputs": [
    {
     "data": {
      "text/plain": [
       "'The avg score is 4.138830'"
      ]
     },
     "execution_count": 362,
     "metadata": {},
     "output_type": "execute_result"
    }
   ],
   "source": [
    "calculate_avg(4,3,2,7.555321)"
   ]
  },
  {
   "cell_type": "code",
   "execution_count": 366,
   "id": "6c74927f-b060-42d3-bb00-51b5f3783402",
   "metadata": {},
   "outputs": [],
   "source": [
    "def calculate_avg(*scores):\n",
    "    total=sum(scores)\n",
    "    number=len(scores)\n",
    "    avg=total/number\n",
    "    return f\"The avg score is {round(avg,2)}\""
   ]
  },
  {
   "cell_type": "code",
   "execution_count": 368,
   "id": "75e5c280-9aaf-4c06-aa23-4ce6f1712db5",
   "metadata": {},
   "outputs": [
    {
     "data": {
      "text/plain": [
       "'The avg score is 4.14'"
      ]
     },
     "execution_count": 368,
     "metadata": {},
     "output_type": "execute_result"
    }
   ],
   "source": [
    "calculate_avg(4,3,2,7.555321)"
   ]
  },
  {
   "cell_type": "markdown",
   "id": "3dd626e7-f31f-48dc-830b-997c198030e8",
   "metadata": {},
   "source": [
    "**kwargs"
   ]
  },
  {
   "cell_type": "code",
   "execution_count": 375,
   "id": "b603140b-6c62-408c-b0b5-5e81638bba4f",
   "metadata": {},
   "outputs": [],
   "source": [
    "def print_person_info(**details):\n",
    "    for k,v in details.items():\n",
    "        print(f\"{k}:{v}\")"
   ]
  },
  {
   "cell_type": "code",
   "execution_count": 387,
   "id": "0e8586db-ce06-4782-be39-d049b2710480",
   "metadata": {},
   "outputs": [
    {
     "name": "stdout",
     "output_type": "stream",
     "text": [
      "Name:Sebastian\n",
      "Age:20\n",
      "School:Muhlenberg\n",
      "Major:Computer Science\n",
      "Sport:Track\n"
     ]
    }
   ],
   "source": [
    "print_person_info(Name=\"Sebastian\", Age=\"20\", School=\"Muhlenberg\", Major=\"Computer Science\", Sport=\"Track\")"
   ]
  },
  {
   "cell_type": "markdown",
   "id": "98cc300d-d12d-4bd4-9966-e2fe09f79993",
   "metadata": {},
   "source": [
    "#mini 01"
   ]
  },
  {
   "cell_type": "markdown",
   "id": "9d1dbebf-9137-47f7-82e4-3ac6f768158e",
   "metadata": {},
   "source": [
    "Create a student profile system\n",
    "called create_profile that uses kwargs\n",
    "1. take any number of arguements\n",
    "2. return a formatted string cntaining student info\n",
    "3. handle the name field specially by showing it first if present\n",
    "4. include all other provided information in a bullleted list format"
   ]
  },
  {
   "cell_type": "code",
   "execution_count": null,
   "id": "ba226291-1424-4c0d-a111-007d5689c621",
   "metadata": {},
   "outputs": [],
   "source": []
  }
 ],
 "metadata": {
  "kernelspec": {
   "display_name": "Python [conda env:base] *",
   "language": "python",
   "name": "conda-base-py"
  },
  "language_info": {
   "codemirror_mode": {
    "name": "ipython",
    "version": 3
   },
   "file_extension": ".py",
   "mimetype": "text/x-python",
   "name": "python",
   "nbconvert_exporter": "python",
   "pygments_lexer": "ipython3",
   "version": "3.12.7"
  }
 },
 "nbformat": 4,
 "nbformat_minor": 5
}
