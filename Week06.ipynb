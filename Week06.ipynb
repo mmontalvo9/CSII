{
 "cells": [
  {
   "cell_type": "markdown",
   "id": "714eb3a5-81b6-4cc4-ba65-38f445485195",
   "metadata": {},
   "source": [
    "Classes and Objects"
   ]
  },
  {
   "cell_type": "code",
   "execution_count": 34,
   "id": "83386d0e-0260-4098-94a4-6f6ed39d246f",
   "metadata": {},
   "outputs": [],
   "source": [
    "from copy import copy\n",
    "\n",
    "class Point:\n",
    "    \"\"\"This represets a point in 2-D Space\"\"\"\n",
    "    def __init__(self, x, y):\n",
    "        self.x=x\n",
    "        self.y=y\n",
    "    def __str__(self):\n",
    "        return f\"Point({self.x},{self.y})\"\n",
    "    def translate(self,dx,dy):\n",
    "        self.x+=dx\n",
    "        self.y+=dy\n",
    "    def translated(self, dx=0, dy=0):\n",
    "        point=copy(self)\n",
    "        point.translate(dx,dy)\n",
    "        return point\n",
    "        "
   ]
  },
  {
   "cell_type": "code",
   "execution_count": 36,
   "id": "2349e003-9b0a-400c-8815-142904f6c3a3",
   "metadata": {},
   "outputs": [
    {
     "name": "stdout",
     "output_type": "stream",
     "text": [
      "Point(0,0)\n"
     ]
    }
   ],
   "source": [
    "start=Point(0,0)\n",
    "print(start)"
   ]
  },
  {
   "cell_type": "code",
   "execution_count": 38,
   "id": "9aeb9deb-a763-4931-9181-96f2d8fa26dc",
   "metadata": {},
   "outputs": [
    {
     "name": "stdout",
     "output_type": "stream",
     "text": [
      "Point(5,3)\n"
     ]
    }
   ],
   "source": [
    "start.translate(5,3)\n",
    "print(start)"
   ]
  },
  {
   "cell_type": "code",
   "execution_count": 40,
   "id": "74947efe-c41e-445b-b394-846c81d17606",
   "metadata": {},
   "outputs": [
    {
     "ename": "NameError",
     "evalue": "name 'ex' is not defined",
     "output_type": "error",
     "traceback": [
      "\u001b[1;31m---------------------------------------------------------------------------\u001b[0m",
      "\u001b[1;31mNameError\u001b[0m                                 Traceback (most recent call last)",
      "Cell \u001b[1;32mIn[40], line 1\u001b[0m\n\u001b[1;32m----> 1\u001b[0m ex\u001b[38;5;241m.\u001b[39mtranslate(\u001b[38;5;241m8\u001b[39m,\u001b[38;5;241m7\u001b[39m)\n\u001b[0;32m      2\u001b[0m \u001b[38;5;28mprint\u001b[39m(ex)\n",
      "\u001b[1;31mNameError\u001b[0m: name 'ex' is not defined"
     ]
    }
   ],
   "source": [
    "\n",
    "\n",
    "\n",
    "ex.translate(8,7)\n",
    "print(ex)\n",
    "#showing  how works"
   ]
  },
  {
   "cell_type": "code",
   "execution_count": 42,
   "id": "4fb87725-1ee0-40d2-bdd3-3f2ec3a5218e",
   "metadata": {},
   "outputs": [
    {
     "name": "stdout",
     "output_type": "stream",
     "text": [
      "Point(12,26)\n",
      "Point(5,3)\n"
     ]
    }
   ],
   "source": [
    "copy1=copy(start)\n",
    "copy1.translate(7,23)\n",
    "print(copy1)\n",
    "print(start)"
   ]
  },
  {
   "cell_type": "code",
   "execution_count": 44,
   "id": "0c6f2aa7-50e7-4d02-ac20-dcb6b9ad3a58",
   "metadata": {},
   "outputs": [
    {
     "name": "stdout",
     "output_type": "stream",
     "text": [
      "Point(300,0)\n"
     ]
    }
   ],
   "source": [
    "start=Point(0,0)\n",
    "end1=start.translated(300,0)\n",
    "print(end1)"
   ]
  },
  {
   "cell_type": "markdown",
   "id": "f8ced853-02ca-4638-99e6-2ca49eb96eb1",
   "metadata": {},
   "source": [
    "Class Line"
   ]
  },
  {
   "cell_type": "code",
   "execution_count": 47,
   "id": "14c082c7-878e-4145-a16a-edcb16c295e4",
   "metadata": {},
   "outputs": [],
   "source": [
    "class Line:\n",
    "    \"\"\"represents a line in 2D space\"\"\"\n",
    "    def __init__(self, p1, p2):\n",
    "        self.p1=p1\n",
    "        self.p2=p2\n",
    "    def __str__(self):\n",
    "        return f\"Line({self.p1},{self.p2})\"\n",
    "        "
   ]
  },
  {
   "cell_type": "code",
   "execution_count": 49,
   "id": "026982f6-bfe8-4fd2-95d6-42fe5d6e4113",
   "metadata": {},
   "outputs": [
    {
     "name": "stdout",
     "output_type": "stream",
     "text": [
      "Point(0,0)\n"
     ]
    }
   ],
   "source": [
    "start=Point(0,0)\n",
    "print(start)"
   ]
  },
  {
   "cell_type": "code",
   "execution_count": 51,
   "id": "db31ffe8-2033-4cc6-a192-6876bc5939f5",
   "metadata": {},
   "outputs": [
    {
     "name": "stdout",
     "output_type": "stream",
     "text": [
      "Point(200,200)\n"
     ]
    }
   ],
   "source": [
    "end=Point(200,200)\n",
    "print(end)"
   ]
  },
  {
   "cell_type": "code",
   "execution_count": 53,
   "id": "f9947996-358b-4153-a779-0d0cfe6c7bc8",
   "metadata": {},
   "outputs": [
    {
     "name": "stdout",
     "output_type": "stream",
     "text": [
      "Line(Point(0,0),Point(200,200))\n"
     ]
    }
   ],
   "source": [
    "line1=Line(start,end)\n",
    "print(line1)"
   ]
  },
  {
   "cell_type": "code",
   "execution_count": 55,
   "id": "be37d0e0-1413-43d8-bb92-4fa4182191f7",
   "metadata": {},
   "outputs": [
    {
     "name": "stdout",
     "output_type": "stream",
     "text": [
      "Note: you may need to restart the kernel to use updated packages.\n"
     ]
    }
   ],
   "source": [
    "%pip install jupyturtle -q"
   ]
  },
  {
   "cell_type": "code",
   "execution_count": 56,
   "id": "fb34c2b6-bc4d-431d-aca1-1ce504d843ba",
   "metadata": {},
   "outputs": [],
   "source": [
    "from jupyturtle import make_turtle, jumpto, moveto"
   ]
  },
  {
   "cell_type": "code",
   "execution_count": 57,
   "id": "0bbcf5d8-1422-4712-9cc8-208751354a67",
   "metadata": {},
   "outputs": [
    {
     "data": {
      "text/html": [
       "<svg width=\"300\" height=\"150\" style=\"fill:none; stroke-linecap:round;\">\n",
       "    <rect width=\"100%\" height=\"100%\" fill=\"#F3F3F7\" />\n",
       "\n",
       "\n",
       "<path stroke=\"#663399\" stroke-width=\"2\" d=\"M 150,75\" />'\n",
       "\n",
       "<g transform=\"rotate(-90.0,150,75) translate(150, 75)\">\n",
       "    <circle stroke=\"#63A375\" stroke-width=\"2\" fill=\"transparent\" r=\"5.5\" cx=\"0\" cy=\"0\"/>\n",
       "    <polygon points=\"0,12 2,9 -2,9\" style=\"fill:#63A375;stroke:#63A375;stroke-width:2\"/>\n",
       "</g>\n",
       "\n",
       "</svg>"
      ],
      "text/plain": [
       "<IPython.core.display.HTML object>"
      ]
     },
     "metadata": {},
     "output_type": "display_data"
    }
   ],
   "source": [
    "t=make_turtle()"
   ]
  },
  {
   "cell_type": "code",
   "execution_count": 58,
   "id": "431a9380-ba74-40af-ab35-c42924d09eb3",
   "metadata": {},
   "outputs": [],
   "source": [
    "class Line:\n",
    "    \"\"\"represents a line in 2D space\"\"\"\n",
    "    def __init__(self, p1, p2):\n",
    "        self.p1=p1\n",
    "        self.p2=p2\n",
    "    def __str__(self):\n",
    "        return f\"Line({self.p1},{self.p2})\"\n",
    "    def draw(self):\n",
    "        jumpto(self.p1.x, self.p1.y)\n",
    "        moveto(self.p2.x, self.p2.y)"
   ]
  },
  {
   "cell_type": "code",
   "execution_count": 101,
   "id": "95685ce6-9c69-4909-9337-706250f7c0d2",
   "metadata": {},
   "outputs": [],
   "source": [
    "start=Point(10,10)"
   ]
  },
  {
   "cell_type": "code",
   "execution_count": 103,
   "id": "4dc77872-78c0-49a1-b938-05002e1fdd0f",
   "metadata": {},
   "outputs": [],
   "source": [
    "end=Point(300,300)"
   ]
  },
  {
   "cell_type": "code",
   "execution_count": 105,
   "id": "d15da71b-43fd-42e1-aabc-a63b0f6e250b",
   "metadata": {},
   "outputs": [],
   "source": [
    "line2=Line(start,end)"
   ]
  },
  {
   "cell_type": "code",
   "execution_count": 107,
   "id": "4f71a570-b2cc-4466-8b43-81faa2daf74e",
   "metadata": {},
   "outputs": [
    {
     "name": "stdout",
     "output_type": "stream",
     "text": [
      "Line(Point(10,10),Point(300,300))\n"
     ]
    }
   ],
   "source": [
    "print(line2)"
   ]
  },
  {
   "cell_type": "code",
   "execution_count": 109,
   "id": "6b879074-be2a-411d-bf6b-3a74a15612bd",
   "metadata": {},
   "outputs": [
    {
     "data": {
      "text/html": [
       "<svg width=\"300\" height=\"150\" style=\"fill:none; stroke-linecap:round;\">\n",
       "    <rect width=\"100%\" height=\"100%\" fill=\"#F3F3F7\" />\n",
       "\n",
       "\n",
       "<path stroke=\"#663399\" stroke-width=\"2\" d=\"M 150,75\" />'\n",
       "\n",
       "<path stroke=\"#663399\" stroke-width=\"2\" d=\"M 10,10 300,300\" />'\n",
       "\n",
       "<g transform=\"rotate(-90.0,300,300) translate(300, 300)\">\n",
       "    <circle stroke=\"#63A375\" stroke-width=\"2\" fill=\"transparent\" r=\"5.5\" cx=\"0\" cy=\"0\"/>\n",
       "    <polygon points=\"0,12 2,9 -2,9\" style=\"fill:#63A375;stroke:#63A375;stroke-width:2\"/>\n",
       "</g>\n",
       "\n",
       "</svg>"
      ],
      "text/plain": [
       "<IPython.core.display.HTML object>"
      ]
     },
     "metadata": {},
     "output_type": "display_data"
    }
   ],
   "source": [
    "make_turtle()\n",
    "line2.draw()"
   ]
  },
  {
   "cell_type": "code",
   "execution_count": 111,
   "id": "0e77ac90-6d28-45c1-858e-14de3385bf7c",
   "metadata": {},
   "outputs": [],
   "source": [
    "p1=Point(200,200)\n",
    "p2=Point(200,200)"
   ]
  },
  {
   "cell_type": "code",
   "execution_count": 113,
   "id": "57f1b275-bab2-4bda-8293-0c9762d4f427",
   "metadata": {},
   "outputs": [
    {
     "data": {
      "text/html": [
       "<svg width=\"300\" height=\"150\" style=\"fill:none; stroke-linecap:round;\">\n",
       "    <rect width=\"100%\" height=\"100%\" fill=\"#F3F3F7\" />\n",
       "\n",
       "\n",
       "<path stroke=\"#663399\" stroke-width=\"2\" d=\"M 150,75\" />'\n",
       "\n",
       "<g transform=\"rotate(-90.0,150,75) translate(150, 75)\">\n",
       "    <circle stroke=\"#63A375\" stroke-width=\"2\" fill=\"transparent\" r=\"5.5\" cx=\"0\" cy=\"0\"/>\n",
       "    <polygon points=\"0,12 2,9 -2,9\" style=\"fill:#63A375;stroke:#63A375;stroke-width:2\"/>\n",
       "</g>\n",
       "\n",
       "</svg>"
      ],
      "text/plain": [
       "<IPython.core.display.HTML object>"
      ]
     },
     "metadata": {},
     "output_type": "display_data"
    },
    {
     "ename": "AttributeError",
     "evalue": "'Point' object has no attribute 'draw'",
     "output_type": "error",
     "traceback": [
      "\u001b[1;31m---------------------------------------------------------------------------\u001b[0m",
      "\u001b[1;31mAttributeError\u001b[0m                            Traceback (most recent call last)",
      "Cell \u001b[1;32mIn[113], line 2\u001b[0m\n\u001b[0;32m      1\u001b[0m make_turtle()\n\u001b[1;32m----> 2\u001b[0m p1\u001b[38;5;241m.\u001b[39mdraw()\n",
      "\u001b[1;31mAttributeError\u001b[0m: 'Point' object has no attribute 'draw'"
     ]
    }
   ],
   "source": [
    "make_turtle()\n",
    "p1.draw()"
   ]
  },
  {
   "cell_type": "code",
   "execution_count": null,
   "id": "63fbd1f6-f640-4ad9-87e6-7c75728a67a1",
   "metadata": {},
   "outputs": [],
   "source": []
  }
 ],
 "metadata": {
  "kernelspec": {
   "display_name": "Python [conda env:base] *",
   "language": "python",
   "name": "conda-base-py"
  },
  "language_info": {
   "codemirror_mode": {
    "name": "ipython",
    "version": 3
   },
   "file_extension": ".py",
   "mimetype": "text/x-python",
   "name": "python",
   "nbconvert_exporter": "python",
   "pygments_lexer": "ipython3",
   "version": "3.12.7"
  }
 },
 "nbformat": 4,
 "nbformat_minor": 5
}
