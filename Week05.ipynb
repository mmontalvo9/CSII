{
 "cells": [
  {
   "cell_type": "markdown",
   "id": "6b59035b-1f00-491d-927c-df45dc6beed6",
   "metadata": {},
   "source": [
    "used week 4 a bit"
   ]
  },
  {
   "cell_type": "markdown",
   "id": "f8984dec-3116-4f7b-9e0f-f11dc8f093bc",
   "metadata": {},
   "source": [
    "#Classes and Methods in Python"
   ]
  },
  {
   "cell_type": "code",
   "execution_count": 1,
   "id": "1cc808ff-8f6d-4fca-a856-e867ec95d401",
   "metadata": {},
   "outputs": [],
   "source": [
    "class Time:\n",
    "    \"\"\"represents the time of day\"\"\"\n",
    "\n",
    "def print_time(time):\n",
    "    s=(f\"{time.hour:02d}:{time.minute:02d}:{time.second:02d}\")\n",
    "    print(s)"
   ]
  },
  {
   "cell_type": "code",
   "execution_count": 3,
   "id": "f3184897-c5ab-44d9-bd1f-fa90f32b26a3",
   "metadata": {},
   "outputs": [],
   "source": [
    "##lets update class Time() by bringing the print_time function in"
   ]
  },
  {
   "cell_type": "code",
   "execution_count": 101,
   "id": "5523d6dc-94dd-4a3a-9849-4850d56cb348",
   "metadata": {},
   "outputs": [],
   "source": [
    "class Time:\n",
    "    \"\"\"represents the time of day\"\"\"\n",
    "\n",
    "    def make_time(hour, minute, second):\n",
    "        time=Time()\n",
    "        time.hour=hour\n",
    "        time.minute=minute\n",
    "        time.second=second\n",
    "        return time\n",
    "    \n",
    "    def print_time(self):\n",
    "        s=(f\"{self.hour:02d}:{self.minute:02d}:{self.second:02d}\")\n",
    "        print(s)\n",
    "    def time_to_int(self):\n",
    "        minutes = self.hour * 60 + self.minute\n",
    "        seconds = minutes * 60 + self.second\n",
    "        return seconds\n",
    "    @staticmethod\n",
    "    def int_to_time(seconds):\n",
    "        m,s=divmod(seconds,60)\n",
    "        h,m=divmod(m,60)\n",
    "        return make_time(h,m,s)\n",
    "        \n",
    "    def is_after(self,other):\n",
    "        return self.time_to_int()>other.time_to_int()\n",
    "\n",
    "    def add_time(self,hours,minutes,seconds):\n",
    "        duration=make_time(hours,minutes,seconds)\n",
    "        seconds_sum=duration.time_to_int()+self.time_to_int()\n",
    "        return Time.int_to_time(seconds_sum)\n",
    "\n",
    "    def __str__(self):\n",
    "        s=f\"{self.hour:02d}:{self.minute:02d}:{self.second:02d}\"\n",
    "        return s\n",
    "    \n",
    "    def __init__(self,hour=0,minute=0,second=0):\n",
    "        self.hour=hour\n",
    "        self.minute=minute\n",
    "        self.second=second\n",
    "\n",
    "    def __add__(self,other):\n",
    "        seconds=self.time_to_int()+other.time_to_int()\n",
    "        return Time.int_to_time(seconds)\n",
    "    def is_valid(self):\n",
    "        if self.hour < 0 or self.minute < 0 or self.second <0:\n",
    "            return False\n",
    "        if self.minute >= 60 or self.second >=60:\n",
    "            return False\n",
    "        if not isinstance(self.hour, int):\n",
    "            return False\n",
    "        if not isinstance(self.minute, int):\n",
    "            return False\n",
    "        return True"
   ]
  },
  {
   "cell_type": "code",
   "execution_count": 29,
   "id": "02cf2b89-092d-40d2-93f2-1fbac2cc8ebe",
   "metadata": {},
   "outputs": [],
   "source": [
    "def make_time(hour, minute, second):\n",
    "    time=Time()\n",
    "    time.hour=hour\n",
    "    time.minute=minute\n",
    "    time.second=second\n",
    "    return time"
   ]
  },
  {
   "cell_type": "code",
   "execution_count": 97,
   "id": "3188d82b-cdc4-4dde-8086-21a3e8c7476c",
   "metadata": {},
   "outputs": [
    {
     "data": {
      "text/plain": [
       "True"
      ]
     },
     "execution_count": 97,
     "metadata": {},
     "output_type": "execute_result"
    }
   ],
   "source": [
    "start=Time(10,5,5)\n",
    "Time.is_valid(start)"
   ]
  },
  {
   "cell_type": "code",
   "execution_count": 31,
   "id": "a01699c2-181e-4d72-9a85-fceda8e2d2e6",
   "metadata": {},
   "outputs": [
    {
     "name": "stdout",
     "output_type": "stream",
     "text": [
      "08:32:09\n"
     ]
    }
   ],
   "source": [
    "start=Time(8,32,9)\n",
    "print(start)"
   ]
  },
  {
   "cell_type": "code",
   "execution_count": 33,
   "id": "53388379-fa02-4a83-936a-eebea5d124d2",
   "metadata": {},
   "outputs": [
    {
     "name": "stdout",
     "output_type": "stream",
     "text": [
      "00:00:00\n"
     ]
    }
   ],
   "source": [
    "x=Time()\n",
    "print(x)"
   ]
  },
  {
   "cell_type": "code",
   "execution_count": 35,
   "id": "998b6cf3-1b2c-451f-a249-e84bb0741b47",
   "metadata": {},
   "outputs": [
    {
     "name": "stdout",
     "output_type": "stream",
     "text": [
      "17:34:34\n"
     ]
    }
   ],
   "source": [
    "start8=Time(12,4,34)\n",
    "duration8=Time(5,30)\n",
    "end8=start8+duration8\n",
    "print(end8)"
   ]
  },
  {
   "cell_type": "code",
   "execution_count": 36,
   "id": "040f8729-8f2c-4385-8cba-ef17113b1037",
   "metadata": {},
   "outputs": [
    {
     "name": "stdout",
     "output_type": "stream",
     "text": [
      "12:03:53\n"
     ]
    }
   ],
   "source": [
    "start1=make_time(12,3,53)\n",
    "Time.print_time(start1)"
   ]
  },
  {
   "cell_type": "code",
   "execution_count": 39,
   "id": "41a5e0fb-1662-411d-a058-a45c72d75a97",
   "metadata": {},
   "outputs": [
    {
     "data": {
      "text/plain": [
       "43433"
      ]
     },
     "execution_count": 39,
     "metadata": {},
     "output_type": "execute_result"
    }
   ],
   "source": [
    "Time.time_to_int(start1)"
   ]
  },
  {
   "cell_type": "code",
   "execution_count": 41,
   "id": "a4b91648-26de-4da5-b6cd-427a4501d040",
   "metadata": {},
   "outputs": [],
   "source": [
    "start=make_time(12,8,10)"
   ]
  },
  {
   "cell_type": "code",
   "execution_count": 43,
   "id": "78071e49-cece-494d-ac99-4c24d9472920",
   "metadata": {},
   "outputs": [
    {
     "name": "stdout",
     "output_type": "stream",
     "text": [
      "12:08:10\n"
     ]
    }
   ],
   "source": [
    "Time.print_time(start)"
   ]
  },
  {
   "cell_type": "code",
   "execution_count": 45,
   "id": "1e9ff938-a6c1-4e8b-ad0b-99fd0f9b110b",
   "metadata": {},
   "outputs": [],
   "source": [
    "def time_to_int(time):\n",
    "    minutes=time.hour*60 +time.minute\n",
    "    seconds=minutes*60+time.second\n",
    "    return seconds"
   ]
  },
  {
   "cell_type": "code",
   "execution_count": 47,
   "id": "70bc93d9-b6c8-491c-8f62-709c8ef81b4f",
   "metadata": {},
   "outputs": [
    {
     "data": {
      "text/plain": [
       "43690"
      ]
     },
     "execution_count": 47,
     "metadata": {},
     "output_type": "execute_result"
    }
   ],
   "source": [
    "time_to_int(start)"
   ]
  },
  {
   "cell_type": "code",
   "execution_count": 49,
   "id": "d748036b-076a-4be5-a076-60e84a229cd5",
   "metadata": {},
   "outputs": [],
   "source": [
    "def int_to_time(seconds):\n",
    "    m,s=divmod(seconds,60)\n",
    "    h,m=divmod(m,60)\n",
    "    return make_time(h,m,s)"
   ]
  },
  {
   "cell_type": "code",
   "execution_count": 51,
   "id": "75e1d609-85e5-4175-bfbe-5797f6f3571c",
   "metadata": {},
   "outputs": [
    {
     "name": "stdout",
     "output_type": "stream",
     "text": [
      "00:10:11\n"
     ]
    }
   ],
   "source": [
    "print_time(int_to_time(611))"
   ]
  },
  {
   "cell_type": "markdown",
   "id": "75319ed5-8fe5-4cf7-9cb3-de4ba54533e3",
   "metadata": {},
   "source": [
    "These two function are not part of the class Time yet, but let's rewrite them as methods of the `class Time()`"
   ]
  },
  {
   "cell_type": "code",
   "execution_count": 54,
   "id": "64ab8276-366a-4e86-b275-3bf59fc0a1ed",
   "metadata": {},
   "outputs": [],
   "source": [
    "start3=make_time(12,3,53)"
   ]
  },
  {
   "cell_type": "code",
   "execution_count": 56,
   "id": "ea8771a6-a9b3-4533-a40d-07b46e222d79",
   "metadata": {},
   "outputs": [
    {
     "name": "stdout",
     "output_type": "stream",
     "text": [
      "12:03:53\n"
     ]
    }
   ],
   "source": [
    "Time.print_time(start3)"
   ]
  },
  {
   "cell_type": "code",
   "execution_count": 58,
   "id": "a9ff6589-2f95-44c2-9c1c-ca09dbd78714",
   "metadata": {},
   "outputs": [
    {
     "data": {
      "text/plain": [
       "43433"
      ]
     },
     "execution_count": 58,
     "metadata": {},
     "output_type": "execute_result"
    }
   ],
   "source": [
    "start3.time_to_int()"
   ]
  },
  {
   "cell_type": "code",
   "execution_count": 60,
   "id": "f983723b-f65e-4fc0-bc1b-b1d0f454ca5a",
   "metadata": {},
   "outputs": [],
   "source": [
    "start4=Time.int_to_time(70000-1)"
   ]
  },
  {
   "cell_type": "code",
   "execution_count": 62,
   "id": "e0cd8b60-1e3b-4e1b-b962-5c1815f91fa2",
   "metadata": {},
   "outputs": [
    {
     "name": "stdout",
     "output_type": "stream",
     "text": [
      "19:26:39\n"
     ]
    }
   ],
   "source": [
    "start4.print_time()"
   ]
  },
  {
   "cell_type": "markdown",
   "id": "d09927d9-c500-4894-ad9c-13d506519145",
   "metadata": {},
   "source": [
    "non-static methods act on objects not the class; static methods belong to the class and act on the class (Class.method)"
   ]
  },
  {
   "cell_type": "code",
   "execution_count": 65,
   "id": "0e4c383a-edec-4fae-bc1f-487b8e186ba3",
   "metadata": {},
   "outputs": [],
   "source": [
    "def is_after(t1,t2):\n",
    "    return t1.time_to_int()>t2.time_to_int()"
   ]
  },
  {
   "cell_type": "code",
   "execution_count": 67,
   "id": "ff01043f-ef72-4c5f-b785-ee2802cae963",
   "metadata": {},
   "outputs": [
    {
     "data": {
      "text/plain": [
       "False"
      ]
     },
     "execution_count": 67,
     "metadata": {},
     "output_type": "execute_result"
    }
   ],
   "source": [
    "start1=make_time(12,3,54)\n",
    "start2=make_time(12,3,56)\n",
    "\n",
    "is_after(start1,start2)"
   ]
  },
  {
   "cell_type": "code",
   "execution_count": 69,
   "id": "a3f5e05f-4336-4081-a129-16f524948568",
   "metadata": {},
   "outputs": [],
   "source": [
    "def add_time(time,hours,minutes,seconds):\n",
    "    duration=make_time(hours,minutes,seconds)\n",
    "    seconds_sum=duration.time_to_int()+time.time_to_int()\n",
    "    return Time.int_to_time(seconds_sum)"
   ]
  },
  {
   "cell_type": "code",
   "execution_count": 71,
   "id": "ea8ed55b-c246-46dc-9118-74fdb1d94a0e",
   "metadata": {},
   "outputs": [],
   "source": [
    "start=make_time(8,30,3)"
   ]
  },
  {
   "cell_type": "code",
   "execution_count": 73,
   "id": "4cb4f37f-af8e-48bb-bdab-3017bdf5762b",
   "metadata": {},
   "outputs": [],
   "source": [
    "end=Time.add_time(start,1,35,27)"
   ]
  },
  {
   "cell_type": "code",
   "execution_count": 75,
   "id": "a5cb5800-f4b9-406f-b0c6-c763187d8c2d",
   "metadata": {},
   "outputs": [
    {
     "name": "stdout",
     "output_type": "stream",
     "text": [
      "10:05:30\n"
     ]
    }
   ],
   "source": [
    "Time.print_time(end)"
   ]
  },
  {
   "cell_type": "code",
   "execution_count": 77,
   "id": "610785c6-2143-4eed-964f-f670d0115fd9",
   "metadata": {},
   "outputs": [
    {
     "data": {
      "text/plain": [
       "False"
      ]
     },
     "execution_count": 77,
     "metadata": {},
     "output_type": "execute_result"
    }
   ],
   "source": [
    "Time.is_after(start,end)"
   ]
  },
  {
   "cell_type": "code",
   "execution_count": 79,
   "id": "2a28286f-6b3e-42bb-b4f6-c455eab0575b",
   "metadata": {},
   "outputs": [
    {
     "data": {
      "text/plain": [
       "'10:05:30'"
      ]
     },
     "execution_count": 79,
     "metadata": {},
     "output_type": "execute_result"
    }
   ],
   "source": [
    "end.__str__()"
   ]
  },
  {
   "cell_type": "code",
   "execution_count": 81,
   "id": "453eb255-ea43-44de-bf9b-7134235bb508",
   "metadata": {},
   "outputs": [
    {
     "name": "stdout",
     "output_type": "stream",
     "text": [
      "hello\n"
     ]
    }
   ],
   "source": [
    "print(\"hello\")"
   ]
  },
  {
   "cell_type": "code",
   "execution_count": null,
   "id": "2c40e3a0-c1c4-4f7f-8b5e-43eb6d4b556a",
   "metadata": {},
   "outputs": [],
   "source": []
  }
 ],
 "metadata": {
  "kernelspec": {
   "display_name": "Python [conda env:base] *",
   "language": "python",
   "name": "conda-base-py"
  },
  "language_info": {
   "codemirror_mode": {
    "name": "ipython",
    "version": 3
   },
   "file_extension": ".py",
   "mimetype": "text/x-python",
   "name": "python",
   "nbconvert_exporter": "python",
   "pygments_lexer": "ipython3",
   "version": "3.12.7"
  }
 },
 "nbformat": 4,
 "nbformat_minor": 5
}
